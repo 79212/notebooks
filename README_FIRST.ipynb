{
 "cells": [
  {
   "cell_type": "markdown",
   "metadata": {},
   "source": [
    "## Useful Links\n",
    "[PipelineAI Home](http://pipeline.ai)\n",
    "\n",
    "[PipelineAI Docs](http://pipeline.ai/docs)"
   ]
  },
  {
   "cell_type": "markdown",
   "metadata": {},
   "source": [
    "## DO NOT UPLOAD SENSITIVE DATA\n",
    "PipelineAI Community Edition is shared by many 1000's of users.  Assume everyone can see everything including your notebooks and data."
   ]
  },
  {
   "cell_type": "markdown",
   "metadata": {},
   "source": [
    "## Want to Self-Host PipelineAI?\n",
    "You can upgrade to the self-hosted PipelineAI [Standalone or Enterprise](http://pipeline.ai/products) Editions by contacting [upgrade@pipeline.ai](mailto:upgrade@pipeline.ai)."
   ]
  },
  {
   "cell_type": "markdown",
   "metadata": {},
   "source": [
    "## GPU support is Here!\n",
    "\n",
    "We do not allow long-running (> 1 min) jobs in PipelineAI Community Edition.\n",
    "\n",
    "**Reminder that we will block users who take advantage of this free community offering.**"
   ]
  },
  {
   "cell_type": "markdown",
   "metadata": {},
   "source": [
    "## Enjoy PipelineAI Community Edition!"
   ]
  },
  {
   "cell_type": "code",
   "execution_count": null,
   "metadata": {},
   "outputs": [],
   "source": []
  }
 ],
 "metadata": {
  "kernelspec": {
   "display_name": "Python 3",
   "language": "python",
   "name": "python3"
  },
  "language_info": {
   "codemirror_mode": {
    "name": "ipython",
    "version": 3
   },
   "file_extension": ".py",
   "mimetype": "text/x-python",
   "name": "python",
   "nbconvert_exporter": "python",
   "pygments_lexer": "ipython3",
   "version": "3.5.4"
  }
 },
 "nbformat": 4,
 "nbformat_minor": 2
}
