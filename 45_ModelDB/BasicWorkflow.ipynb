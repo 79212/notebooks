{
 "cells": [
  {
   "cell_type": "code",
   "execution_count": null,
   "metadata": {
    "collapsed": true
   },
   "outputs": [],
   "source": [
    "from modeldb.basic.Structs import (\n",
    "    Model, ModelConfig, ModelMetrics, Dataset)\n",
    "from modeldb.basic.ModelDbSyncerBase import Syncer"
   ]
  },
  {
   "cell_type": "code",
   "execution_count": null,
   "metadata": {
    "collapsed": true
   },
   "outputs": [],
   "source": [
    "# Create a syncer using a convenience API\n",
    "syncer_obj = Syncer.create_syncer(\"Sample Project\", \\\n",
    "                                  \"test_user\", \\\n",
    "                                  \"use sync_all\", \\\n",
    "                                  host=\"backend\")"
   ]
  },
  {
   "cell_type": "code",
   "execution_count": null,
   "metadata": {
    "collapsed": true
   },
   "outputs": [],
   "source": [
    "print \"I'm training some model\"\n",
    "\n",
    "datasets = {\n",
    "    \"train\": Dataset(\"/path/to/train\", {\"num_cols\": 15, \"dist\": \"random\"}),\n",
    "    \"test\": Dataset(\"/path/to/test\", {\"num_cols\": 15, \"dist\": \"gaussian\"})\n",
    "}\n",
    "model = \"model_obj\"\n",
    "mdb_model1 = Model(\"NN\", model, \"/path/to/model1\")\n",
    "model_config1 = ModelConfig(\"NN\", {\"l1\": 10})\n",
    "model_metrics1 = ModelMetrics({\"accuracy\": 0.8})\n",
    "\n",
    "mdb_model2 = Model(\"NN\", model, \"/path/to/model2\")\n",
    "model_config2 = ModelConfig(\"NN\", {\"l1\": 20})\n",
    "model_metrics2 = ModelMetrics({\"accuracy\": 0.9})"
   ]
  },
  {
   "cell_type": "code",
   "execution_count": null,
   "metadata": {
    "collapsed": true
   },
   "outputs": [],
   "source": [
    "syncer_obj.sync_datasets(datasets)\n",
    "\n",
    "syncer_obj.sync_model(\"train\", model_config1, mdb_model1)\n",
    "syncer_obj.sync_metrics(\"test\", mdb_model1, model_metrics1)\n",
    "\n",
    "syncer_obj.sync_model(\"train\", model_config2, mdb_model2)\n",
    "syncer_obj.sync_metrics(\"test\", mdb_model2, model_metrics2)\n",
    "\n",
    "syncer_obj.sync()"
   ]
  }
 ],
 "metadata": {
  "kernelspec": {
   "display_name": "Python 2",
   "language": "python",
   "name": "python2"
  },
  "language_info": {
   "codemirror_mode": {
    "name": "ipython",
    "version": 2
   },
   "file_extension": ".py",
   "mimetype": "text/x-python",
   "name": "python",
   "nbconvert_exporter": "python",
   "pygments_lexer": "ipython2",
   "version": "2.7.13"
  }
 },
 "nbformat": 4,
 "nbformat_minor": 2
}
