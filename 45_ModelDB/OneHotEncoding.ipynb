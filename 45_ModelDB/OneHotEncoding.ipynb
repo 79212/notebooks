{
 "cells": [
  {
   "cell_type": "code",
   "execution_count": null,
   "metadata": {
    "collapsed": true
   },
   "outputs": [],
   "source": [
    "import pandas as pd\n",
    "\n",
    "from sklearn.preprocessing import LabelBinarizer\n",
    "from sklearn.metrics import accuracy_score\n",
    "\n",
    "from modeldb.sklearn_native.ModelDbSyncer import *\n",
    "from modeldb.sklearn_native import SyncableMetrics"
   ]
  },
  {
   "cell_type": "code",
   "execution_count": null,
   "metadata": {
    "collapsed": true
   },
   "outputs": [],
   "source": [
    "DATA_PATH = '/modeldb/data/'\n",
    "\n",
    "name = \"logistic regression - one hot encoding\"\n",
    "author = \"srinidhi\"\n",
    "description = \"predicting income\"\n",
    "syncer_obj = Syncer(\n",
    "    NewOrExistingProject(name, author, description),\n",
    "    DefaultExperiment(),\n",
    "    NewExperimentRun(\"Abc\"),\n",
    "    ThriftConfig(host=\"backend\"))"
   ]
  },
  {
   "cell_type": "code",
   "execution_count": null,
   "metadata": {
    "collapsed": true
   },
   "outputs": [],
   "source": [
    "def oneHotEncoding(lb, feature, df):\n",
    "    if lb is None:\n",
    "        lb = LabelBinarizer()\n",
    "        feature_numeric = lb.fit_transform(df[[feature]])\n",
    "    else:\n",
    "        feature_numeric = lb.transform(df[[feature]])\n",
    "    col_names = map(lambda x: feature + \"_\" +\n",
    "                    str(x).strip(), list(lb.classes_))\n",
    "    if lb.classes_.shape[0] == 2:\n",
    "        col_names = col_names[:1]\n",
    "    feature_df = pd.DataFrame(\n",
    "        feature_numeric, columns=col_names, index=df.index)\n",
    "    df = df.join(feature_df)\n",
    "    return [lb, df]"
   ]
  },
  {
   "cell_type": "code",
   "execution_count": null,
   "metadata": {
    "collapsed": true
   },
   "outputs": [],
   "source": [
    "orig = pd.read_csv_sync(DATA_PATH + 'adult_with_colnames.csv', index_col=0)\n",
    "[train, test] = cross_validation.train_test_split_sync(\n",
    "    orig, test_size=0.3, random_state=501)\n",
    "\n",
    "[lb, train] = oneHotEncoding(None, \"workclass\", train)\n",
    "cols = [col for col in train.columns if \"workclass_\" in col]\n",
    "[lb2, train] = oneHotEncoding(None, \"sex\", train)\n",
    "cols = [col for col in train.columns if \"sex_\" in col]\n",
    "train = train.drop([\"workclass\", \"sex\"], axis=1)\n",
    "new_cols = [\n",
    "    col for col in train.columns if \"workclass_\" in col or \"sex_\" in col]"
   ]
  },
  {
   "cell_type": "code",
   "execution_count": null,
   "metadata": {
    "collapsed": true
   },
   "outputs": [],
   "source": [
    "logreg = linear_model.LogisticRegression(C=10)\n",
    "features = ['capital-gain', 'capital-loss', 'age'] + new_cols\n",
    "logreg.fit_sync(train[features], train.income)\n",
    "\n",
    "[lb, test] = oneHotEncoding(lb, \"workclass\", test)\n",
    "[lb2, test] = oneHotEncoding(lb2, \"sex\", test)\n",
    "test = test.drop([\"workclass\", \"sex\"], axis=1)"
   ]
  },
  {
   "cell_type": "code",
   "execution_count": null,
   "metadata": {
    "collapsed": true
   },
   "outputs": [],
   "source": [
    "test_pred = logreg.predict_sync(test[features])\n",
    "test_proba = logreg.predict_proba(test[features])\n",
    "\n",
    "accuracy = SyncableMetrics.compute_metrics(\n",
    "    logreg, accuracy_score, test.income, test_pred, test[features],\n",
    "    \"predictionCol\", 'income_level')\n",
    "\n",
    "syncer_obj.sync()"
   ]
  }
 ],
 "metadata": {
  "kernelspec": {
   "display_name": "Python 2",
   "language": "python",
   "name": "python2"
  },
  "language_info": {
   "codemirror_mode": {
    "name": "ipython",
    "version": 2
   },
   "file_extension": ".py",
   "mimetype": "text/x-python",
   "name": "python",
   "nbconvert_exporter": "python",
   "pygments_lexer": "ipython2",
   "version": "2.7.13"
  }
 },
 "nbformat": 4,
 "nbformat_minor": 2
}
