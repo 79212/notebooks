{
 "cells": [
  {
   "cell_type": "code",
   "execution_count": null,
   "metadata": {
    "collapsed": true
   },
   "outputs": [],
   "source": [
    "\"\"\"\n",
    "Source: https://github.com/rhiever/Data-Analysis-and-Machine-Learning-Projects/blob/master/example-data-science-notebook/Example%20Machine%20Learning%20Notebook.ipynb\n",
    "\"\"\"\n",
    "import pandas as pd\n",
    "from sklearn.tree import DecisionTreeClassifier\n",
    "from sklearn.ensemble import RandomForestClassifier\n",
    "from sklearn.cross_validation import StratifiedKFold\n",
    "from sklearn.metrics import accuracy_score\n",
    "from sklearn.grid_search import GridSearchCV\n",
    "\n",
    "from modeldb.sklearn_native.ModelDbSyncer import *\n",
    "from modeldb.sklearn_native import SyncableMetrics"
   ]
  },
  {
   "cell_type": "code",
   "execution_count": null,
   "metadata": {
    "collapsed": true
   },
   "outputs": [],
   "source": [
    "DATA_PATH = '/modeldb/data/'\n",
    "WORK_PATH = '/home/jovyan/work/'\n",
    "\n",
    "name = \"test1\"\n",
    "author = \"author\"\n",
    "description = \"kaggle-iris-script\"\n",
    "# Creating a new project\n",
    "syncer_obj = Syncer(\n",
    "    NewOrExistingProject(name, author, description),\n",
    "    NewOrExistingExperiment(\"expName\", \"expDesc\"),\n",
    "    NewExperimentRun(\"iris test\"),\n",
    "    ThriftConfig(host=\"backend\"))"
   ]
  },
  {
   "cell_type": "code",
   "execution_count": null,
   "metadata": {
    "collapsed": true
   },
   "outputs": [],
   "source": [
    "\"\"\"\n",
    "Cleaning up data first.\n",
    "\"\"\"\n",
    "iris_data = pd.read_csv_sync(DATA_PATH + 'iris-data.csv', na_values=['NA'])\n",
    "\n",
    "iris_data.loc[iris_data['class'] == 'versicolor', 'class'] = 'Iris-versicolor'\n",
    "iris_data.loc[iris_data['class'] == 'Iris-setossa', 'class'] = 'Iris-setosa'\n",
    "\n",
    "# This line drops any 'Iris-setosa' rows with a separal width less than 2.5 cm\n",
    "iris_data = iris_data.loc[\n",
    "    (iris_data['class'] != 'Iris-setosa') |\n",
    "    (iris_data['sepal_width_cm'] >= 2.5)]\n",
    "iris_data.loc[iris_data['class'] == 'Iris-setosa', 'sepal_width_cm'].hist()\n",
    "\n",
    "iris_data.loc[(iris_data['class'] == 'Iris-versicolor') &\n",
    "              (iris_data['sepal_length_cm'] < 1.0)]\n",
    "\n",
    "iris_data.loc[(iris_data['class'] == 'Iris-versicolor') &\n",
    "              (iris_data['sepal_length_cm'] < 1.0),\n",
    "              'sepal_length_cm'] *= 100.0\n",
    "\n",
    "iris_data.loc[iris_data['class'] ==\n",
    "              'Iris-versicolor', 'sepal_length_cm'].hist()\n",
    "\n",
    "iris_data.loc[(iris_data['sepal_length_cm'].isnull()) |\n",
    "              (iris_data['sepal_width_cm'].isnull()) |\n",
    "              (iris_data['petal_length_cm'].isnull()) |\n",
    "              (iris_data['petal_width_cm'].isnull())]\n",
    "\n",
    "iris_data.loc[iris_data['class'] == 'Iris-setosa', 'petal_width_cm'].hist()\n",
    "\n",
    "average_petal_width = iris_data.loc[\n",
    "    iris_data['class'] == 'Iris-setosa', 'petal_width_cm'].mean()\n",
    "\n",
    "iris_data.loc[(iris_data['class'] == 'Iris-setosa') &\n",
    "              (iris_data['petal_width_cm'].isnull()),\n",
    "              'petal_width_cm'] = average_petal_width\n",
    "\n",
    "iris_data.loc[(iris_data['class'] == 'Iris-setosa') &\n",
    "              (iris_data['petal_width_cm'] == average_petal_width)]\n",
    "\n",
    "iris_data.loc[(iris_data['sepal_length_cm'].isnull()) |\n",
    "              (iris_data['sepal_width_cm'].isnull()) |\n",
    "              (iris_data['petal_length_cm'].isnull()) |\n",
    "              (iris_data['petal_width_cm'].isnull())]"
   ]
  },
  {
   "cell_type": "code",
   "execution_count": null,
   "metadata": {
    "collapsed": true
   },
   "outputs": [],
   "source": [
    "\"\"\"\n",
    "Save cleaned up data into a new csv file for subsequent use.\n",
    "\"\"\"\n",
    "iris_data.to_csv(WORK_PATH + 'iris-data-clean.csv', index=False)\n",
    "iris_data_clean = pd.read_csv_sync(WORK_PATH + 'iris-data-clean.csv')"
   ]
  },
  {
   "cell_type": "code",
   "execution_count": null,
   "metadata": {
    "collapsed": true
   },
   "outputs": [],
   "source": [
    "\"\"\"\n",
    "Perform classification\n",
    "\"\"\"\n",
    "# We can extract the data in this format from pandas like this:\n",
    "all_inputs = iris_data_clean[['sepal_length_cm', 'sepal_width_cm',\n",
    "                              'petal_length_cm', 'petal_width_cm']].values\n",
    "syncer_obj.add_tag(all_inputs, \"data to input into model\")\n",
    "\n",
    "# Similarly, we can extract the classes\n",
    "all_classes = iris_data_clean['class'].values\n",
    "\n",
    "# Make sure that you don't mix up the order of the entries\n",
    "# all_inputs[5] inputs should correspond to the class in all_classes[5]\n",
    "\n",
    "(training_inputs,\n",
    " testing_inputs,\n",
    " training_classes,\n",
    " testing_classes) = cross_validation.train_test_split_sync(\n",
    "    all_inputs, all_classes, train_size=0.75, random_state=1)"
   ]
  },
  {
   "cell_type": "code",
   "execution_count": null,
   "metadata": {
    "collapsed": true
   },
   "outputs": [],
   "source": [
    "\"\"\"\n",
    "Cross Validation\n",
    "\"\"\"\n",
    "# Create the classifier\n",
    "decision_tree_classifier = DecisionTreeClassifier()\n",
    "syncer_obj.add_tag(decision_tree_classifier, \"decision tree\")\n",
    "\n",
    "# Train the classifier on the training set\n",
    "decision_tree_classifier.fit_sync(training_inputs, training_classes)\n",
    "\n",
    "# Validate the classifier on the testing set using classification accuracy\n",
    "# decision_tree_classifier.score(testing_inputs, testing_classes)\n",
    "\n",
    "# NOTE: score is equivalent to sklearn.metrics.accuracy_score.\n",
    "SyncableMetrics.compute_metrics(\n",
    "    decision_tree_classifier, accuracy_score, testing_classes,\n",
    "    decision_tree_classifier.predict(testing_inputs), training_inputs, \"\", \"\")\n",
    "\n",
    "# cross_val_score returns a list of the scores, which we can visualize\n",
    "# to get a reasonable estimate of our classifier's performance\n",
    "cv_scores = cross_validation.cross_val_score_sync(\n",
    "    decision_tree_classifier, all_inputs, all_classes, cv=10)"
   ]
  },
  {
   "cell_type": "code",
   "execution_count": null,
   "metadata": {
    "collapsed": true
   },
   "outputs": [],
   "source": [
    "\"\"\"\n",
    "Parameter-tuning\n",
    "\"\"\"\n",
    "parameter_grid = {'criterion': ['gini', 'entropy'],\n",
    "                  'splitter': ['best', 'random'],\n",
    "                  'max_depth': [1, 2, 3, 4, 5],\n",
    "                  'max_features': [1, 2, 3, 4]}\n",
    "\n",
    "cross_validation = StratifiedKFold(all_classes, n_folds=10)\n",
    "\n",
    "grid_search = GridSearchCV(decision_tree_classifier,\n",
    "                           param_grid=parameter_grid,\n",
    "                           cv=cross_validation)\n",
    "\n",
    "grid_search.fit_sync(all_inputs, all_classes)\n",
    "print('Best score: {}'.format(grid_search.best_score_))\n",
    "print('Best parameters: {}'.format(grid_search.best_params_))"
   ]
  },
  {
   "cell_type": "code",
   "execution_count": null,
   "metadata": {
    "collapsed": true
   },
   "outputs": [],
   "source": [
    "# Get the best estimator\n",
    "decision_tree_classifier = grid_search.best_estimator_\n",
    "\n",
    "random_forest_classifier = RandomForestClassifier()\n",
    "\n",
    "parameter_grid = {'n_estimators': [5, 10, 25, 50],\n",
    "                  'criterion': ['gini', 'entropy'],\n",
    "                  'max_features': [1, 2, 3, 4],\n",
    "                  'warm_start': [True, False]}\n",
    "\n",
    "cross_validation = StratifiedKFold(all_classes, n_folds=10)\n",
    "\n",
    "grid_search = GridSearchCV(random_forest_classifier,\n",
    "                           param_grid=parameter_grid,\n",
    "                           cv=cross_validation)\n",
    "\n",
    "grid_search.fit_sync(all_inputs, all_classes)\n",
    "print('Best score: {}'.format(grid_search.best_score_))\n",
    "print('Best parameters: {}'.format(grid_search.best_params_))"
   ]
  },
  {
   "cell_type": "code",
   "execution_count": null,
   "metadata": {
    "collapsed": true
   },
   "outputs": [],
   "source": [
    "random_forest_classifier = grid_search.best_estimator_\n",
    "syncer_obj.sync()"
   ]
  }
 ],
 "metadata": {
  "kernelspec": {
   "display_name": "Python 2",
   "language": "python",
   "name": "python2"
  },
  "language_info": {
   "codemirror_mode": {
    "name": "ipython",
    "version": 2
   },
   "file_extension": ".py",
   "mimetype": "text/x-python",
   "name": "python",
   "nbconvert_exporter": "python",
   "pygments_lexer": "ipython2",
   "version": "2.7.13"
  }
 },
 "nbformat": 4,
 "nbformat_minor": 2
}
