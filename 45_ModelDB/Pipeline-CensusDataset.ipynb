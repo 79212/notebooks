{
 "cells": [
  {
   "cell_type": "code",
   "execution_count": null,
   "metadata": {
    "collapsed": true
   },
   "outputs": [],
   "source": [
    "import pandas as pd\n",
    "\n",
    "from sklearn import preprocessing\n",
    "from sklearn import linear_model\n",
    "from sklearn.metrics import f1_score\n",
    "from sklearn.metrics import precision_score\n",
    "from sklearn.pipeline import Pipeline\n",
    "from sklearn import decomposition\n",
    "\n",
    "from modeldb.sklearn_native.ModelDbSyncer import *\n",
    "from modeldb.sklearn_native import SyncableMetrics"
   ]
  },
  {
   "cell_type": "code",
   "execution_count": null,
   "metadata": {
    "collapsed": true
   },
   "outputs": [],
   "source": [
    "DATA_PATH = '/modeldb/data/'\n",
    "\n",
    "# Pipelining: This chains a PCA and logistic regression, and uses the UCI\n",
    "# Census Adult dataset.\n",
    "\n",
    "name = \"pipeline census\"\n",
    "author = \"srinidhi\"\n",
    "description = \"census data\"\n",
    "syncer_obj = Syncer(\n",
    "    NewOrExistingProject(name, author, description),\n",
    "    DefaultExperiment(),\n",
    "    NewExperimentRun(\"Abc\"),\n",
    "    ThriftConfig(host=\"backend\"))"
   ]
  },
  {
   "cell_type": "code",
   "execution_count": null,
   "metadata": {
    "collapsed": true
   },
   "outputs": [],
   "source": [
    "df = pd.read_csv_sync(DATA_PATH + 'adult.data.csv')\n",
    "new_df = pd.DataFrame()\n",
    "df.columns = ['age', 'workclass', 'fnlwgt', 'education', 'education_num',\n",
    "              'marital_status', 'occupation', 'relationship', 'race', 'sex',\n",
    "              'capital_gain', 'capital_loss', 'hours_per_week',\n",
    "              'native_country', 'income_level']"
   ]
  },
  {
   "cell_type": "code",
   "execution_count": null,
   "metadata": {
    "collapsed": true
   },
   "outputs": [],
   "source": [
    "le = preprocessing.LabelEncoder()\n",
    "\n",
    "# Assigning 0.0 to represent incomes <=50K, and 1.0 to represent incomes >50K\n",
    "df['income_level'] = df['income_level'].str.strip()\n",
    "df['income_level'] = df['income_level'].replace(['<=50K'], [0.0])\n",
    "df['income_level'] = df['income_level'].replace(['>50K'], [1.0])"
   ]
  },
  {
   "cell_type": "code",
   "execution_count": null,
   "metadata": {
    "collapsed": true
   },
   "outputs": [],
   "source": [
    "# calling labelEncoder on any columns that are object types\n",
    "for coltype, colname in zip(df.dtypes, df.columns):\n",
    "    if coltype == 'object':\n",
    "        le.fit_sync(df[colname])\n",
    "        transformed_vals = le.transform_sync(df[colname])\n",
    "        new_df[colname + \"_index\"] = transformed_vals\n",
    "    else:\n",
    "        new_df[colname] = df[colname]"
   ]
  },
  {
   "cell_type": "code",
   "execution_count": null,
   "metadata": {
    "collapsed": true
   },
   "outputs": [],
   "source": [
    "# Creating the pipeline\n",
    "pca = decomposition.PCA()\n",
    "lr = linear_model.LogisticRegression()\n",
    "pipe = Pipeline(steps=[('pca', pca), ('logistic', lr)])"
   ]
  },
  {
   "cell_type": "code",
   "execution_count": null,
   "metadata": {
    "collapsed": true
   },
   "outputs": [],
   "source": [
    "# Separating dataset into training and testing sets\n",
    "x_train, x_test, y_train, y_test = cross_validation.train_test_split_sync(\n",
    "    new_df, new_df['income_level'], test_size=0.3, random_state=0)"
   ]
  },
  {
   "cell_type": "code",
   "execution_count": null,
   "metadata": {
    "collapsed": true
   },
   "outputs": [],
   "source": [
    "# We don't want to include our label (income_level) when fitting\n",
    "partial_training = x_train[x_train.columns[:-1]]\n",
    "partial_testing = x_test[x_test.columns[:-1]]"
   ]
  },
  {
   "cell_type": "code",
   "execution_count": null,
   "metadata": {
    "collapsed": true
   },
   "outputs": [],
   "source": [
    "# Fit the pipeline\n",
    "pipe.fit_sync(partial_training, y_train)\n",
    "\n",
    "y_pred = pipe.predict(partial_testing)\n",
    "# Compute various metrics on the testing set\n",
    "SyncableMetrics.compute_metrics(\n",
    "    pipe, f1_score, y_test, y_pred, partial_testing, \"predictionCol\",\n",
    "    'income_level')\n",
    "SyncableMetrics.compute_metrics(\n",
    "    pipe, precision_score, y_test, y_pred, partial_testing, \"predictionCol\",\n",
    "    'income_level')\n",
    "\n",
    "syncer_obj.sync()"
   ]
  }
 ],
 "metadata": {
  "kernelspec": {
   "display_name": "Python 2",
   "language": "python",
   "name": "python2"
  },
  "language_info": {
   "codemirror_mode": {
    "name": "ipython",
    "version": 2
   },
   "file_extension": ".py",
   "mimetype": "text/x-python",
   "name": "python",
   "nbconvert_exporter": "python",
   "pygments_lexer": "ipython2",
   "version": "2.7.13"
  }
 },
 "nbformat": 4,
 "nbformat_minor": 2
}
