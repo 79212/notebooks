{
 "cells": [
  {
   "cell_type": "markdown",
   "metadata": {},
   "source": [
    "# Optimize & Deploy with PipelineAI Community\n",
    "* https://community.pipeline.ai\n",
    "* https://quickstart.pipeline.ai"
   ]
  },
  {
   "cell_type": "code",
   "execution_count": null,
   "metadata": {},
   "outputs": [],
   "source": [
    "%%bash\n",
    "\n",
    "ls -al ./model/workshop/linear/cpu"
   ]
  },
  {
   "cell_type": "markdown",
   "metadata": {},
   "source": [
    "## Upload Model to PipelineAI\n",
    "\n",
    "You will need to fill in the unique values for the following:\n",
    "* `<YOUR_USER_ID>`  - 8 character id that uniquely identifies the PipelineAI user.  You will see the UserId in the upper right hand corner of the Settings tab after you login to [PipelineAI Community Edition](https://community.cloud.pipeline.ai)\n",
    "\n",
    "![user-id](https://pipeline.ai/assets/img/user-id.png)\n",
    "\n",
    "* `<YOUR_MODEL_NAME>` - User defined model name that uniquely identifies the model\n",
    "* `<YOUR_TAG_NAME>` - User defined tag that uniquely identifies the model version\n",
    "```\n",
    "pipeline resource-upload --host community.cloud.pipeline.ai --user-id <YOUR_USER_ID> --resource-type model --resource-subtype tensorflow  --name <YOUR_MODEL_NAME> --tag <YOUR_TAG_NAME> --path ./tensorflow/mnist-v3/model\n",
    "```\n",
    "\n",
    "Actions performed:\n",
    "* Compress resource source code into a tar archive.\n",
    "* Create required directories and generate deployment and service resource definitions.\n",
    "* Receive resource source code - or trained binary (ie. tensorflow SavedModel binary)\n",
    "  from client as a tar archive then uncompress and extract on the PipelineAI server.\n",
    "* Initialize training resource"
   ]
  },
  {
   "cell_type": "code",
   "execution_count": null,
   "metadata": {},
   "outputs": [],
   "source": [
    "%%bash\n",
    "\n",
    "pipeline resource-upload --host community.cloud.pipeline.ai --user-id <YOUR_USER_ID> --resource-type model --resource-subtype tensorflow  --name <YOUR_MODEL_NAME> --tag <YOUR_TAG_NAME> --path ./model/workshop/linear/cpu"
   ]
  },
  {
   "cell_type": "code",
   "execution_count": null,
   "metadata": {},
   "outputs": [],
   "source": []
  }
 ],
 "metadata": {
  "kernelspec": {
   "display_name": "Python 3",
   "language": "python",
   "name": "python3"
  },
  "language_info": {
   "codemirror_mode": {
    "name": "ipython",
    "version": 3
   },
   "file_extension": ".py",
   "mimetype": "text/x-python",
   "name": "python",
   "nbconvert_exporter": "python",
   "pygments_lexer": "ipython3",
   "version": "3.6.5"
  }
 },
 "nbformat": 4,
 "nbformat_minor": 2
}
