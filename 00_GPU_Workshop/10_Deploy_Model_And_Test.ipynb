{
 "cells": [
  {
   "cell_type": "markdown",
   "metadata": {},
   "source": [
    "# Deploy Fully Optimized Model to TensorFlow Serving"
   ]
  },
  {
   "cell_type": "markdown",
   "metadata": {},
   "source": [
    "## IMPORTANT:  You Must STOP All Kernels and Terminal Session\n",
    "The GPU is wedged at this point.  We need to set it free!!\n",
    "\n",
    "![Shutdown All Kernels and Terminals](http://pipeline.io/img/shutdown-all-kernels-and-terminals.png)"
   ]
  },
  {
   "cell_type": "markdown",
   "metadata": {},
   "source": [
    "## Open a Terminal through Jupyter Notebook \n",
    "### (Menu Bar -> File -> New...)\n",
    "\n",
    "![Jupyter Terminal](http://pipeline.io/img/jupyter-terminal.png)"
   ]
  },
  {
   "cell_type": "markdown",
   "metadata": {},
   "source": [
    "# Start Http-Grpc Proxy in Separate Terminal\n",
    "Inputs:\n",
    "* `proxy_port` for this proxy\n",
    "* `tf_serving_port` for TensorFlow Serving\n",
    "\n",
    "Command:\n",
    "```\n",
    "http_grpc_proxy 9004 9001\n",
    "```\n"
   ]
  },
  {
   "cell_type": "markdown",
   "metadata": {},
   "source": [
    "# Start TensorFlow Serving in Separate Terminal\n",
    "Point to the `model_base_path` of the fully optimized model.  \n",
    "\n",
    "Inputs:\n",
    "* `port` (int)\n",
    "* `model_name` (anything)\n",
    "* `model_base_path` (/path/to/models-parent-dir/)\n",
    "\n",
    "Command:\n",
    "```\n",
    "tensorflow_model_server \\\n",
    "  --port=9001 \\\n",
    "  --model_name=linear \\\n",
    "  --model_base_path=/root/models/optimize_me/saved_model/linear/cpu/ \\\n",
    "  --enable_batching=false\n",
    "```"
   ]
  },
  {
   "cell_type": "markdown",
   "metadata": {},
   "source": [
    "## Run the Following Command in the Terminal to Predict\n",
    "Inputs:\n",
    "* `proxy_port`\n",
    "* `input` feed (x_observed)\n",
    "\n",
    "Command:\n",
    "```\n",
    "predict 9004 1.5\n",
    "```\n",
    "\n",
    "Outputs:\n",
    "* `output` prediction (y_pred)\n"
   ]
  },
  {
   "cell_type": "markdown",
   "metadata": {},
   "source": [
    "# Monitor GPU in Separate Terminal \n",
    "```\n",
    "watch -n 1 nvidia-smi\n",
    "```"
   ]
  },
  {
   "cell_type": "markdown",
   "metadata": {},
   "source": [
    "## Start Load Test in Separate Terminal\n",
    "Inputs:\n",
    "* `amount of load (low|medium|high)`\n",
    "\n",
    "Command:\n",
    "```\n",
    "loadtest high\n",
    "```\n",
    "\n",
    "Outputs:\n",
    "```\n",
    "summary ... 38.6/s Avg:  1175 Min:    26 Max:  2320 Err:     0 (0.00%)\n",
    "summary ... 37.3/s Avg:  2586 Min:  2331 Max:  2729 Err:     0 (0.00%)\n",
    "```\n"
   ]
  },
  {
   "cell_type": "code",
   "execution_count": null,
   "metadata": {},
   "outputs": [],
   "source": []
  }
 ],
 "metadata": {
  "kernelspec": {
   "display_name": "Python 3",
   "language": "python",
   "name": "python3"
  },
  "language_info": {
   "codemirror_mode": {
    "name": "ipython",
    "version": 3
   },
   "file_extension": ".py",
   "mimetype": "text/x-python",
   "name": "python",
   "nbconvert_exporter": "python",
   "pygments_lexer": "ipython3",
   "version": "3.6.5"
  }
 },
 "nbformat": 4,
 "nbformat_minor": 2
}
