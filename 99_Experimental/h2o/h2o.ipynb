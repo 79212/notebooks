{
 "cells": [
  {
   "cell_type": "code",
   "execution_count": 52,
   "metadata": {},
   "outputs": [
    {
     "name": "stdout",
     "output_type": "stream",
     "text": [
      "Requirement already satisfied: h2o in /opt/conda/lib/python3.6/site-packages\n",
      "Requirement already satisfied: future in /opt/conda/lib/python3.6/site-packages (from h2o)\n",
      "Requirement already satisfied: tabulate in /opt/conda/lib/python3.6/site-packages (from h2o)\n",
      "Requirement already satisfied: colorama>=0.3.8 in /opt/conda/lib/python3.6/site-packages (from h2o)\n",
      "Requirement already satisfied: requests in /opt/conda/lib/python3.6/site-packages (from h2o)\n",
      "Requirement already satisfied: chardet<3.1.0,>=3.0.2 in /root/.local/lib/python3.6/site-packages (from requests->h2o)\n",
      "Requirement already satisfied: certifi>=2017.4.17 in /root/.local/lib/python3.6/site-packages (from requests->h2o)\n",
      "Requirement already satisfied: idna<2.7,>=2.5 in /opt/conda/lib/python3.6/site-packages (from requests->h2o)\n",
      "Requirement already satisfied: urllib3<1.23,>=1.21.1 in /root/.local/lib/python3.6/site-packages (from requests->h2o)\n"
     ]
    }
   ],
   "source": [
    "!pip install h2o"
   ]
  },
  {
   "cell_type": "code",
   "execution_count": 53,
   "metadata": {},
   "outputs": [],
   "source": [
    "import h2o"
   ]
  },
  {
   "cell_type": "code",
   "execution_count": 54,
   "metadata": {},
   "outputs": [
    {
     "name": "stdout",
     "output_type": "stream",
     "text": [
      "Checking whether there is an H2O instance running at http://localhost:54321. connected.\n"
     ]
    },
    {
     "data": {
      "text/html": [
       "<div style=\"overflow:auto\"><table style=\"width:50%\"><tr><td>H2O cluster uptime:</td>\n",
       "<td>3 hours 28 mins</td></tr>\n",
       "<tr><td>H2O cluster version:</td>\n",
       "<td>3.16.0.3</td></tr>\n",
       "<tr><td>H2O cluster version age:</td>\n",
       "<td>6 days </td></tr>\n",
       "<tr><td>H2O cluster name:</td>\n",
       "<td>H2O_from_python_community_3zc8uw</td></tr>\n",
       "<tr><td>H2O cluster total nodes:</td>\n",
       "<td>1</td></tr>\n",
       "<tr><td>H2O cluster free memory:</td>\n",
       "<td>25.78 Gb</td></tr>\n",
       "<tr><td>H2O cluster total cores:</td>\n",
       "<td>16</td></tr>\n",
       "<tr><td>H2O cluster allowed cores:</td>\n",
       "<td>16</td></tr>\n",
       "<tr><td>H2O cluster status:</td>\n",
       "<td>locked, healthy</td></tr>\n",
       "<tr><td>H2O connection url:</td>\n",
       "<td>http://localhost:54321</td></tr>\n",
       "<tr><td>H2O connection proxy:</td>\n",
       "<td>None</td></tr>\n",
       "<tr><td>H2O internal security:</td>\n",
       "<td>False</td></tr>\n",
       "<tr><td>H2O API Extensions:</td>\n",
       "<td>XGBoost, Algos, AutoML, Core V3, Core V4</td></tr>\n",
       "<tr><td>Python version:</td>\n",
       "<td>3.6.4 final</td></tr></table></div>"
      ],
      "text/plain": [
       "--------------------------  ----------------------------------------\n",
       "H2O cluster uptime:         3 hours 28 mins\n",
       "H2O cluster version:        3.16.0.3\n",
       "H2O cluster version age:    6 days\n",
       "H2O cluster name:           H2O_from_python_community_3zc8uw\n",
       "H2O cluster total nodes:    1\n",
       "H2O cluster free memory:    25.78 Gb\n",
       "H2O cluster total cores:    16\n",
       "H2O cluster allowed cores:  16\n",
       "H2O cluster status:         locked, healthy\n",
       "H2O connection url:         http://localhost:54321\n",
       "H2O connection proxy:\n",
       "H2O internal security:      False\n",
       "H2O API Extensions:         XGBoost, Algos, AutoML, Core V3, Core V4\n",
       "Python version:             3.6.4 final\n",
       "--------------------------  ----------------------------------------"
      ]
     },
     "metadata": {},
     "output_type": "display_data"
    }
   ],
   "source": [
    "h2o.init()"
   ]
  },
  {
   "cell_type": "code",
   "execution_count": 7,
   "metadata": {},
   "outputs": [],
   "source": [
    "#Import the appropriate libraries \n",
    "%matplotlib inline\n",
    "\n",
    "import h2o\n",
    "import pandas\n",
    "import pprint\n",
    "import operator\n",
    "import matplotlib\n",
    "from h2o.estimators.glm import H2OGeneralizedLinearEstimator\n",
    "from h2o.estimators.gbm import H2OGradientBoostingEstimator\n",
    "from h2o.estimators.random_forest import H2ORandomForestEstimator\n",
    "from h2o.estimators.deeplearning import H2ODeepLearningEstimator\n",
    "from tabulate import tabulate"
   ]
  },
  {
   "cell_type": "code",
   "execution_count": 8,
   "metadata": {},
   "outputs": [
    {
     "name": "stdout",
     "output_type": "stream",
     "text": [
      "Import and Parse airlines data\n",
      "Parse progress: |█████████████████████████████████████████████████████████| 100%\n"
     ]
    }
   ],
   "source": [
    "# Task 2: Load data - 1 row per flight.  Has columns showing the origin,\n",
    "# destination, departure and arrival time, carrier information, and\n",
    "# whether the flight was delayed.\n",
    "print(\"Import and Parse airlines data\")\n",
    "data = h2o.import_file(path='https://s3.amazonaws.com/h2o-airlines-unpacked/allyears2k.csv')"
   ]
  },
  {
   "cell_type": "code",
   "execution_count": 9,
   "metadata": {},
   "outputs": [
    {
     "data": {
      "text/plain": [
       "['Year',\n",
       " 'Month',\n",
       " 'DayofMonth',\n",
       " 'DayOfWeek',\n",
       " 'DepTime',\n",
       " 'CRSDepTime',\n",
       " 'ArrTime',\n",
       " 'CRSArrTime',\n",
       " 'UniqueCarrier',\n",
       " 'FlightNum',\n",
       " 'TailNum',\n",
       " 'ActualElapsedTime',\n",
       " 'CRSElapsedTime',\n",
       " 'AirTime',\n",
       " 'ArrDelay',\n",
       " 'DepDelay',\n",
       " 'Origin',\n",
       " 'Dest',\n",
       " 'Distance',\n",
       " 'TaxiIn',\n",
       " 'TaxiOut',\n",
       " 'Cancelled',\n",
       " 'CancellationCode',\n",
       " 'Diverted',\n",
       " 'CarrierDelay',\n",
       " 'WeatherDelay',\n",
       " 'NASDelay',\n",
       " 'SecurityDelay',\n",
       " 'LateAircraftDelay',\n",
       " 'IsArrDelayed',\n",
       " 'IsDepDelayed']"
      ]
     },
     "execution_count": 9,
     "metadata": {},
     "output_type": "execute_result"
    }
   ],
   "source": [
    "data.col_names"
   ]
  },
  {
   "cell_type": "code",
   "execution_count": 11,
   "metadata": {},
   "outputs": [
    {
     "data": {
      "text/plain": [
       "(31, 43978)"
      ]
     },
     "execution_count": 11,
     "metadata": {},
     "output_type": "execute_result"
    }
   ],
   "source": [
    "data.ncol, data.nrow"
   ]
  },
  {
   "cell_type": "code",
   "execution_count": 12,
   "metadata": {},
   "outputs": [
    {
     "name": "stdout",
     "output_type": "stream",
     "text": [
      "Rows:43978\n",
      "Cols:31\n",
      "\n",
      "\n"
     ]
    },
    {
     "data": {
      "text/html": [
       "<table>\n",
       "<thead>\n",
       "<tr><th>       </th><th>Year             </th><th>Month             </th><th>DayofMonth        </th><th>DayOfWeek         </th><th>DepTime           </th><th>CRSDepTime       </th><th>ArrTime           </th><th>CRSArrTime        </th><th>UniqueCarrier  </th><th>FlightNum        </th><th>TailNum  </th><th>ActualElapsedTime  </th><th>CRSElapsedTime    </th><th>AirTime          </th><th>ArrDelay         </th><th>DepDelay          </th><th>Origin  </th><th>Dest  </th><th>Distance         </th><th>TaxiIn            </th><th>TaxiOut           </th><th>Cancelled           </th><th>CancellationCode  </th><th>Diverted             </th><th>CarrierDelay      </th><th>WeatherDelay      </th><th>NASDelay          </th><th>SecurityDelay       </th><th>LateAircraftDelay  </th><th>IsArrDelayed  </th><th>IsDepDelayed  </th></tr>\n",
       "</thead>\n",
       "<tbody>\n",
       "<tr><td>type   </td><td>int              </td><td>int               </td><td>int               </td><td>int               </td><td>int               </td><td>int              </td><td>int               </td><td>int               </td><td>enum           </td><td>int              </td><td>enum     </td><td>int                </td><td>int               </td><td>int              </td><td>int              </td><td>int               </td><td>enum    </td><td>enum  </td><td>int              </td><td>int               </td><td>int               </td><td>int                 </td><td>enum              </td><td>int                  </td><td>int               </td><td>int               </td><td>int               </td><td>int                 </td><td>int                </td><td>enum          </td><td>enum          </td></tr>\n",
       "<tr><td>mins   </td><td>1987.0           </td><td>1.0               </td><td>1.0               </td><td>1.0               </td><td>1.0               </td><td>0.0              </td><td>1.0               </td><td>0.0               </td><td>               </td><td>1.0              </td><td>         </td><td>16.0               </td><td>17.0              </td><td>14.0             </td><td>-63.0            </td><td>-16.0             </td><td>        </td><td>      </td><td>11.0             </td><td>0.0               </td><td>0.0               </td><td>0.0                 </td><td>                  </td><td>0.0                  </td><td>0.0               </td><td>0.0               </td><td>0.0               </td><td>0.0                 </td><td>0.0                </td><td>              </td><td>              </td></tr>\n",
       "<tr><td>mean   </td><td>1997.500000000007</td><td>1.4090909090909112</td><td>14.601073263904548</td><td>3.8206148528809805</td><td>1345.8466613820847</td><td>1313.222861430723</td><td>1504.6341303788763</td><td>1485.28916731093  </td><td>               </td><td>818.8429896766555</td><td>         </td><td>124.81452913540394 </td><td>125.02156260661943</td><td>114.3161110907823</td><td>9.3171119369843  </td><td>10.00739065560008 </td><td>        </td><td>      </td><td>730.1821905650545</td><td>5.3813680595305895</td><td>14.168634184732053</td><td>0.024694165264450407</td><td>                  </td><td>0.0024785119832643593</td><td>4.047800291055636 </td><td>0.2893764692712416</td><td>4.855031904175528 </td><td>0.017015560282100085</td><td>7.620060450016803  </td><td>              </td><td>              </td></tr>\n",
       "<tr><td>maxs   </td><td>2008.0           </td><td>10.0              </td><td>31.0              </td><td>7.0               </td><td>2400.0            </td><td>2359.0           </td><td>2400.0            </td><td>2359.0            </td><td>               </td><td>3949.0           </td><td>         </td><td>475.0              </td><td>437.0             </td><td>402.0            </td><td>475.0            </td><td>473.0             </td><td>        </td><td>      </td><td>3365.0           </td><td>128.0             </td><td>254.0             </td><td>1.0                 </td><td>                  </td><td>1.0                  </td><td>369.0             </td><td>201.0             </td><td>323.0             </td><td>14.0                </td><td>373.0              </td><td>              </td><td>              </td></tr>\n",
       "<tr><td>sigma  </td><td>6.344360901707364</td><td>1.8747113713439594</td><td>9.175790425861416 </td><td>1.9050131191329   </td><td>465.3408991242314 </td><td>476.2511399926006</td><td>484.3474879035155 </td><td>492.75043412270236</td><td>               </td><td>777.404369163635 </td><td>         </td><td>73.97444166059002  </td><td>73.40159463000958 </td><td>69.63632951506123</td><td>29.84022196241487</td><td>26.438809042916432</td><td>        </td><td>      </td><td>578.4380082304231</td><td>4.201979939864828 </td><td>9.9050857472043   </td><td>0.15519314135784237 </td><td>                  </td><td>0.049723487218862286 </td><td>16.205729904484198</td><td>4.416779898734125 </td><td>18.619776221475668</td><td>0.4039401821015119  </td><td>23.487565874106227 </td><td>              </td><td>              </td></tr>\n",
       "<tr><td>zeros  </td><td>0                </td><td>0                 </td><td>0                 </td><td>0                 </td><td>0                 </td><td>569              </td><td>0                 </td><td>569               </td><td>               </td><td>0                </td><td>         </td><td>0                  </td><td>0                 </td><td>0                </td><td>1514             </td><td>6393              </td><td>        </td><td>      </td><td>0                </td><td>623               </td><td>557               </td><td>42892               </td><td>                  </td><td>43869                </td><td>7344              </td><td>8840              </td><td>7388              </td><td>8914                </td><td>7140               </td><td>              </td><td>              </td></tr>\n",
       "<tr><td>missing</td><td>0                </td><td>0                 </td><td>0                 </td><td>0                 </td><td>1086              </td><td>0                </td><td>1195              </td><td>0                 </td><td>0              </td><td>0                </td><td>32       </td><td>1195               </td><td>13                </td><td>16649            </td><td>1195             </td><td>1086              </td><td>0       </td><td>0     </td><td>35               </td><td>16026             </td><td>16024             </td><td>0                   </td><td>9774              </td><td>0                    </td><td>35045             </td><td>35045             </td><td>35045             </td><td>35045               </td><td>35045              </td><td>0             </td><td>0             </td></tr>\n",
       "<tr><td>0      </td><td>1987.0           </td><td>10.0              </td><td>14.0              </td><td>3.0               </td><td>741.0             </td><td>730.0            </td><td>912.0             </td><td>849.0             </td><td>PS             </td><td>1451.0           </td><td>NA       </td><td>91.0               </td><td>79.0              </td><td>nan              </td><td>23.0             </td><td>11.0              </td><td>SAN     </td><td>SFO   </td><td>447.0            </td><td>nan               </td><td>nan               </td><td>0.0                 </td><td>NA                </td><td>0.0                  </td><td>nan               </td><td>nan               </td><td>nan               </td><td>nan                 </td><td>nan                </td><td>YES           </td><td>YES           </td></tr>\n",
       "<tr><td>1      </td><td>1987.0           </td><td>10.0              </td><td>15.0              </td><td>4.0               </td><td>729.0             </td><td>730.0            </td><td>903.0             </td><td>849.0             </td><td>PS             </td><td>1451.0           </td><td>NA       </td><td>94.0               </td><td>79.0              </td><td>nan              </td><td>14.0             </td><td>-1.0              </td><td>SAN     </td><td>SFO   </td><td>447.0            </td><td>nan               </td><td>nan               </td><td>0.0                 </td><td>NA                </td><td>0.0                  </td><td>nan               </td><td>nan               </td><td>nan               </td><td>nan                 </td><td>nan                </td><td>YES           </td><td>NO            </td></tr>\n",
       "<tr><td>2      </td><td>1987.0           </td><td>10.0              </td><td>17.0              </td><td>6.0               </td><td>741.0             </td><td>730.0            </td><td>918.0             </td><td>849.0             </td><td>PS             </td><td>1451.0           </td><td>NA       </td><td>97.0               </td><td>79.0              </td><td>nan              </td><td>29.0             </td><td>11.0              </td><td>SAN     </td><td>SFO   </td><td>447.0            </td><td>nan               </td><td>nan               </td><td>0.0                 </td><td>NA                </td><td>0.0                  </td><td>nan               </td><td>nan               </td><td>nan               </td><td>nan                 </td><td>nan                </td><td>YES           </td><td>YES           </td></tr>\n",
       "<tr><td>3      </td><td>1987.0           </td><td>10.0              </td><td>18.0              </td><td>7.0               </td><td>729.0             </td><td>730.0            </td><td>847.0             </td><td>849.0             </td><td>PS             </td><td>1451.0           </td><td>NA       </td><td>78.0               </td><td>79.0              </td><td>nan              </td><td>-2.0             </td><td>-1.0              </td><td>SAN     </td><td>SFO   </td><td>447.0            </td><td>nan               </td><td>nan               </td><td>0.0                 </td><td>NA                </td><td>0.0                  </td><td>nan               </td><td>nan               </td><td>nan               </td><td>nan                 </td><td>nan                </td><td>NO            </td><td>NO            </td></tr>\n",
       "<tr><td>4      </td><td>1987.0           </td><td>10.0              </td><td>19.0              </td><td>1.0               </td><td>749.0             </td><td>730.0            </td><td>922.0             </td><td>849.0             </td><td>PS             </td><td>1451.0           </td><td>NA       </td><td>93.0               </td><td>79.0              </td><td>nan              </td><td>33.0             </td><td>19.0              </td><td>SAN     </td><td>SFO   </td><td>447.0            </td><td>nan               </td><td>nan               </td><td>0.0                 </td><td>NA                </td><td>0.0                  </td><td>nan               </td><td>nan               </td><td>nan               </td><td>nan                 </td><td>nan                </td><td>YES           </td><td>YES           </td></tr>\n",
       "<tr><td>5      </td><td>1987.0           </td><td>10.0              </td><td>21.0              </td><td>3.0               </td><td>728.0             </td><td>730.0            </td><td>848.0             </td><td>849.0             </td><td>PS             </td><td>1451.0           </td><td>NA       </td><td>80.0               </td><td>79.0              </td><td>nan              </td><td>-1.0             </td><td>-2.0              </td><td>SAN     </td><td>SFO   </td><td>447.0            </td><td>nan               </td><td>nan               </td><td>0.0                 </td><td>NA                </td><td>0.0                  </td><td>nan               </td><td>nan               </td><td>nan               </td><td>nan                 </td><td>nan                </td><td>NO            </td><td>NO            </td></tr>\n",
       "<tr><td>6      </td><td>1987.0           </td><td>10.0              </td><td>22.0              </td><td>4.0               </td><td>728.0             </td><td>730.0            </td><td>852.0             </td><td>849.0             </td><td>PS             </td><td>1451.0           </td><td>NA       </td><td>84.0               </td><td>79.0              </td><td>nan              </td><td>3.0              </td><td>-2.0              </td><td>SAN     </td><td>SFO   </td><td>447.0            </td><td>nan               </td><td>nan               </td><td>0.0                 </td><td>NA                </td><td>0.0                  </td><td>nan               </td><td>nan               </td><td>nan               </td><td>nan                 </td><td>nan                </td><td>YES           </td><td>NO            </td></tr>\n",
       "<tr><td>7      </td><td>1987.0           </td><td>10.0              </td><td>23.0              </td><td>5.0               </td><td>731.0             </td><td>730.0            </td><td>902.0             </td><td>849.0             </td><td>PS             </td><td>1451.0           </td><td>NA       </td><td>91.0               </td><td>79.0              </td><td>nan              </td><td>13.0             </td><td>1.0               </td><td>SAN     </td><td>SFO   </td><td>447.0            </td><td>nan               </td><td>nan               </td><td>0.0                 </td><td>NA                </td><td>0.0                  </td><td>nan               </td><td>nan               </td><td>nan               </td><td>nan                 </td><td>nan                </td><td>YES           </td><td>YES           </td></tr>\n",
       "<tr><td>8      </td><td>1987.0           </td><td>10.0              </td><td>24.0              </td><td>6.0               </td><td>744.0             </td><td>730.0            </td><td>908.0             </td><td>849.0             </td><td>PS             </td><td>1451.0           </td><td>NA       </td><td>84.0               </td><td>79.0              </td><td>nan              </td><td>19.0             </td><td>14.0              </td><td>SAN     </td><td>SFO   </td><td>447.0            </td><td>nan               </td><td>nan               </td><td>0.0                 </td><td>NA                </td><td>0.0                  </td><td>nan               </td><td>nan               </td><td>nan               </td><td>nan                 </td><td>nan                </td><td>YES           </td><td>YES           </td></tr>\n",
       "<tr><td>9      </td><td>1987.0           </td><td>10.0              </td><td>25.0              </td><td>7.0               </td><td>729.0             </td><td>730.0            </td><td>851.0             </td><td>849.0             </td><td>PS             </td><td>1451.0           </td><td>NA       </td><td>82.0               </td><td>79.0              </td><td>nan              </td><td>2.0              </td><td>-1.0              </td><td>SAN     </td><td>SFO   </td><td>447.0            </td><td>nan               </td><td>nan               </td><td>0.0                 </td><td>NA                </td><td>0.0                  </td><td>nan               </td><td>nan               </td><td>nan               </td><td>nan                 </td><td>nan                </td><td>YES           </td><td>NO            </td></tr>\n",
       "</tbody>\n",
       "</table>"
      ]
     },
     "metadata": {},
     "output_type": "display_data"
    }
   ],
   "source": [
    "data.describe()"
   ]
  },
  {
   "cell_type": "code",
   "execution_count": 13,
   "metadata": {},
   "outputs": [],
   "source": [
    "# ----------\n",
    "\n",
    "# 2- Data exploration and munging. Generate scatter plots \n",
    "# of various columns and plot fitted GLM model.\n",
    "\n",
    "# Function to fit a GLM model and plot the fitted (x,y) values\n",
    "def scatter_plot(data, x, y, max_points = 1000, fit = True):\n",
    "    if(fit):\n",
    "        lr = H2OGeneralizedLinearEstimator(family = \"gaussian\")\n",
    "        lr.train(x=x, y=y, training_frame=data)\n",
    "        coeff = lr.coef()\n",
    "    df = data[[x,y]]\n",
    "    runif = df[y].runif()\n",
    "    df_subset = df[runif < float(max_points)/data.nrow]\n",
    "    df_py = h2o.as_list(df_subset)\n",
    "    \n",
    "    if(fit): h2o.remove(lr._id)\n",
    "\n",
    "    # If x variable is string, generate box-and-whisker plot\n",
    "    if(df_py[x].dtype == \"object\"):\n",
    "        if interactive: df_py.boxplot(column = y, by = x)\n",
    "    # Otherwise, generate a scatter plot\n",
    "    else:\n",
    "        if interactive: df_py.plot(x = x, y = y, kind = \"scatter\")\n",
    "    \n",
    "    if(fit):\n",
    "        x_min = min(df_py[x])\n",
    "        x_max = max(df_py[x])\n",
    "        y_min = coeff[\"Intercept\"] + coeff[x]*x_min\n",
    "        y_max = coeff[\"Intercept\"] + coeff[x]*x_max\n",
    "        plt.plot([x_min, x_max], [y_min, y_max], \"k-\")\n",
    "    if interactive: plt.show()"
   ]
  },
  {
   "cell_type": "code",
   "execution_count": 15,
   "metadata": {},
   "outputs": [],
   "source": [
    "# set this to True if interactive (matplotlib) plots are desired\n",
    "interactive = True\n",
    "if not interactive: matplotlib.use('Agg', warn=False)\n",
    "import matplotlib.pyplot as plt"
   ]
  },
  {
   "cell_type": "code",
   "execution_count": 16,
   "metadata": {},
   "outputs": [
    {
     "name": "stdout",
     "output_type": "stream",
     "text": [
      "glm Model Build progress: |███████████████████████████████████████████████| 100%\n"
     ]
    },
    {
     "data": {
      "image/png": "[encoded data removed]",
      "text/plain": [
       "<matplotlib.figure.Figure at 0x7f88f8dc2978>"
      ]
     },
     "metadata": {},
     "output_type": "display_data"
    },
    {
     "data": {
      "image/png": "[encoded data removed]",
      "text/plain": [
       "<matplotlib.figure.Figure at 0x7f88f598b710>"
      ]
     },
     "metadata": {},
     "output_type": "display_data"
    }
   ],
   "source": [
    "# Task 3: Generate scatterplots for \"Distance\" and \"Airtime\" and one for \"Unique Carrier\" and the \"ArrDelay\" \n",
    "scatter_plot(data, \"Distance\", \"AirTime\", fit = True)\n",
    "scatter_plot(data, \"UniqueCarrier\", \"ArrDelay\", max_points = 5000, fit = False)"
   ]
  },
  {
   "cell_type": "code",
   "execution_count": 17,
   "metadata": {},
   "outputs": [],
   "source": [
    "grouped = data.group_by(\"Month\")"
   ]
  },
  {
   "cell_type": "code",
   "execution_count": 26,
   "metadata": {},
   "outputs": [
    {
     "data": {
      "text/html": [
       "<table>\n",
       "<thead>\n",
       "<tr><th style=\"text-align: right;\">  Month</th></tr>\n",
       "</thead>\n",
       "<tbody>\n",
       "<tr><td style=\"text-align: right;\">      1</td></tr>\n",
       "<tr><td style=\"text-align: right;\">     10</td></tr>\n",
       "</tbody>\n",
       "</table>"
      ]
     },
     "metadata": {},
     "output_type": "display_data"
    },
    {
     "name": "stdout",
     "output_type": "stream",
     "text": [
      "Rows:2\n",
      "Cols:1\n",
      "\n",
      "\n"
     ]
    },
    {
     "data": {
      "text/html": [
       "<table>\n",
       "<thead>\n",
       "<tr><th>       </th><th>Month            </th></tr>\n",
       "</thead>\n",
       "<tbody>\n",
       "<tr><td>type   </td><td>int              </td></tr>\n",
       "<tr><td>mins   </td><td>1.0              </td></tr>\n",
       "<tr><td>mean   </td><td>5.5              </td></tr>\n",
       "<tr><td>maxs   </td><td>10.0             </td></tr>\n",
       "<tr><td>sigma  </td><td>6.363961030678928</td></tr>\n",
       "<tr><td>zeros  </td><td>0                </td></tr>\n",
       "<tr><td>missing</td><td>0                </td></tr>\n",
       "<tr><td>0      </td><td>1.0              </td></tr>\n",
       "<tr><td>1      </td><td>10.0             </td></tr>\n",
       "</tbody>\n",
       "</table>"
      ]
     },
     "metadata": {},
     "output_type": "display_data"
    },
    {
     "data": {
      "text/plain": [
       "[2, 1]"
      ]
     },
     "execution_count": 26,
     "metadata": {},
     "output_type": "execute_result"
    }
   ],
   "source": [
    "bpd = grouped.count().sum(\"Cancelled\").frame\n",
    "bpd.show()\n",
    "\n",
    "bpd.describe()\n",
    "bpd.dim"
   ]
  },
  {
   "cell_type": "code",
   "execution_count": 27,
   "metadata": {},
   "outputs": [],
   "source": [
    "# Task 5: Convert the \"Year,\" \"Month,\" \"DayOfWeek,\" \"Cancelled\" columns to factors\n",
    "data[\"Year\"]      = data[\"Year\"]     .asfactor()\n",
    "data[\"Month\"]     = data[\"Month\"]    .asfactor()\n",
    "data[\"DayOfWeek\"] = data[\"DayOfWeek\"].asfactor()\n",
    "data[\"Cancelled\"] = data[\"Cancelled\"].asfactor()"
   ]
  },
  {
   "cell_type": "code",
   "execution_count": 31,
   "metadata": {},
   "outputs": [
    {
     "data": {
      "text/html": [
       "<table>\n",
       "<thead>\n",
       "<tr><th style=\"text-align: right;\">  Year</th><th style=\"text-align: right;\">  Month</th><th style=\"text-align: right;\">  DayofMonth</th><th style=\"text-align: right;\">  DayOfWeek</th><th style=\"text-align: right;\">  DepTime</th><th style=\"text-align: right;\">  CRSDepTime</th><th style=\"text-align: right;\">  ArrTime</th><th style=\"text-align: right;\">  CRSArrTime</th><th>UniqueCarrier  </th><th style=\"text-align: right;\">  FlightNum</th><th>TailNum  </th><th style=\"text-align: right;\">  ActualElapsedTime</th><th style=\"text-align: right;\">  CRSElapsedTime</th><th style=\"text-align: right;\">  AirTime</th><th style=\"text-align: right;\">  ArrDelay</th><th style=\"text-align: right;\">  DepDelay</th><th>Origin  </th><th>Dest  </th><th style=\"text-align: right;\">  Distance</th><th style=\"text-align: right;\">  TaxiIn</th><th style=\"text-align: right;\">  TaxiOut</th><th style=\"text-align: right;\">  Cancelled</th><th>CancellationCode  </th><th style=\"text-align: right;\">  Diverted</th><th style=\"text-align: right;\">  CarrierDelay</th><th style=\"text-align: right;\">  WeatherDelay</th><th style=\"text-align: right;\">  NASDelay</th><th style=\"text-align: right;\">  SecurityDelay</th><th style=\"text-align: right;\">  LateAircraftDelay</th><th>IsArrDelayed  </th><th>IsDepDelayed  </th></tr>\n",
       "</thead>\n",
       "<tbody>\n",
       "<tr><td style=\"text-align: right;\">  1987</td><td style=\"text-align: right;\">     10</td><td style=\"text-align: right;\">          14</td><td style=\"text-align: right;\">          3</td><td style=\"text-align: right;\">      741</td><td style=\"text-align: right;\">         730</td><td style=\"text-align: right;\">      912</td><td style=\"text-align: right;\">         849</td><td>PS             </td><td style=\"text-align: right;\">       1451</td><td>NA       </td><td style=\"text-align: right;\">                 91</td><td style=\"text-align: right;\">              79</td><td style=\"text-align: right;\">      nan</td><td style=\"text-align: right;\">        23</td><td style=\"text-align: right;\">        11</td><td>SAN     </td><td>SFO   </td><td style=\"text-align: right;\">       447</td><td style=\"text-align: right;\">     nan</td><td style=\"text-align: right;\">      nan</td><td style=\"text-align: right;\">          0</td><td>NA                </td><td style=\"text-align: right;\">         0</td><td style=\"text-align: right;\">           nan</td><td style=\"text-align: right;\">           nan</td><td style=\"text-align: right;\">       nan</td><td style=\"text-align: right;\">            nan</td><td style=\"text-align: right;\">                nan</td><td>YES           </td><td>YES           </td></tr>\n",
       "<tr><td style=\"text-align: right;\">  1987</td><td style=\"text-align: right;\">     10</td><td style=\"text-align: right;\">          15</td><td style=\"text-align: right;\">          4</td><td style=\"text-align: right;\">      729</td><td style=\"text-align: right;\">         730</td><td style=\"text-align: right;\">      903</td><td style=\"text-align: right;\">         849</td><td>PS             </td><td style=\"text-align: right;\">       1451</td><td>NA       </td><td style=\"text-align: right;\">                 94</td><td style=\"text-align: right;\">              79</td><td style=\"text-align: right;\">      nan</td><td style=\"text-align: right;\">        14</td><td style=\"text-align: right;\">        -1</td><td>SAN     </td><td>SFO   </td><td style=\"text-align: right;\">       447</td><td style=\"text-align: right;\">     nan</td><td style=\"text-align: right;\">      nan</td><td style=\"text-align: right;\">          0</td><td>NA                </td><td style=\"text-align: right;\">         0</td><td style=\"text-align: right;\">           nan</td><td style=\"text-align: right;\">           nan</td><td style=\"text-align: right;\">       nan</td><td style=\"text-align: right;\">            nan</td><td style=\"text-align: right;\">                nan</td><td>YES           </td><td>NO            </td></tr>\n",
       "<tr><td style=\"text-align: right;\">  1987</td><td style=\"text-align: right;\">     10</td><td style=\"text-align: right;\">          17</td><td style=\"text-align: right;\">          6</td><td style=\"text-align: right;\">      741</td><td style=\"text-align: right;\">         730</td><td style=\"text-align: right;\">      918</td><td style=\"text-align: right;\">         849</td><td>PS             </td><td style=\"text-align: right;\">       1451</td><td>NA       </td><td style=\"text-align: right;\">                 97</td><td style=\"text-align: right;\">              79</td><td style=\"text-align: right;\">      nan</td><td style=\"text-align: right;\">        29</td><td style=\"text-align: right;\">        11</td><td>SAN     </td><td>SFO   </td><td style=\"text-align: right;\">       447</td><td style=\"text-align: right;\">     nan</td><td style=\"text-align: right;\">      nan</td><td style=\"text-align: right;\">          0</td><td>NA                </td><td style=\"text-align: right;\">         0</td><td style=\"text-align: right;\">           nan</td><td style=\"text-align: right;\">           nan</td><td style=\"text-align: right;\">       nan</td><td style=\"text-align: right;\">            nan</td><td style=\"text-align: right;\">                nan</td><td>YES           </td><td>YES           </td></tr>\n",
       "<tr><td style=\"text-align: right;\">  1987</td><td style=\"text-align: right;\">     10</td><td style=\"text-align: right;\">          18</td><td style=\"text-align: right;\">          7</td><td style=\"text-align: right;\">      729</td><td style=\"text-align: right;\">         730</td><td style=\"text-align: right;\">      847</td><td style=\"text-align: right;\">         849</td><td>PS             </td><td style=\"text-align: right;\">       1451</td><td>NA       </td><td style=\"text-align: right;\">                 78</td><td style=\"text-align: right;\">              79</td><td style=\"text-align: right;\">      nan</td><td style=\"text-align: right;\">        -2</td><td style=\"text-align: right;\">        -1</td><td>SAN     </td><td>SFO   </td><td style=\"text-align: right;\">       447</td><td style=\"text-align: right;\">     nan</td><td style=\"text-align: right;\">      nan</td><td style=\"text-align: right;\">          0</td><td>NA                </td><td style=\"text-align: right;\">         0</td><td style=\"text-align: right;\">           nan</td><td style=\"text-align: right;\">           nan</td><td style=\"text-align: right;\">       nan</td><td style=\"text-align: right;\">            nan</td><td style=\"text-align: right;\">                nan</td><td>NO            </td><td>NO            </td></tr>\n",
       "<tr><td style=\"text-align: right;\">  1987</td><td style=\"text-align: right;\">     10</td><td style=\"text-align: right;\">          19</td><td style=\"text-align: right;\">          1</td><td style=\"text-align: right;\">      749</td><td style=\"text-align: right;\">         730</td><td style=\"text-align: right;\">      922</td><td style=\"text-align: right;\">         849</td><td>PS             </td><td style=\"text-align: right;\">       1451</td><td>NA       </td><td style=\"text-align: right;\">                 93</td><td style=\"text-align: right;\">              79</td><td style=\"text-align: right;\">      nan</td><td style=\"text-align: right;\">        33</td><td style=\"text-align: right;\">        19</td><td>SAN     </td><td>SFO   </td><td style=\"text-align: right;\">       447</td><td style=\"text-align: right;\">     nan</td><td style=\"text-align: right;\">      nan</td><td style=\"text-align: right;\">          0</td><td>NA                </td><td style=\"text-align: right;\">         0</td><td style=\"text-align: right;\">           nan</td><td style=\"text-align: right;\">           nan</td><td style=\"text-align: right;\">       nan</td><td style=\"text-align: right;\">            nan</td><td style=\"text-align: right;\">                nan</td><td>YES           </td><td>YES           </td></tr>\n",
       "<tr><td style=\"text-align: right;\">  1987</td><td style=\"text-align: right;\">     10</td><td style=\"text-align: right;\">          21</td><td style=\"text-align: right;\">          3</td><td style=\"text-align: right;\">      728</td><td style=\"text-align: right;\">         730</td><td style=\"text-align: right;\">      848</td><td style=\"text-align: right;\">         849</td><td>PS             </td><td style=\"text-align: right;\">       1451</td><td>NA       </td><td style=\"text-align: right;\">                 80</td><td style=\"text-align: right;\">              79</td><td style=\"text-align: right;\">      nan</td><td style=\"text-align: right;\">        -1</td><td style=\"text-align: right;\">        -2</td><td>SAN     </td><td>SFO   </td><td style=\"text-align: right;\">       447</td><td style=\"text-align: right;\">     nan</td><td style=\"text-align: right;\">      nan</td><td style=\"text-align: right;\">          0</td><td>NA                </td><td style=\"text-align: right;\">         0</td><td style=\"text-align: right;\">           nan</td><td style=\"text-align: right;\">           nan</td><td style=\"text-align: right;\">       nan</td><td style=\"text-align: right;\">            nan</td><td style=\"text-align: right;\">                nan</td><td>NO            </td><td>NO            </td></tr>\n",
       "<tr><td style=\"text-align: right;\">  1987</td><td style=\"text-align: right;\">     10</td><td style=\"text-align: right;\">          22</td><td style=\"text-align: right;\">          4</td><td style=\"text-align: right;\">      728</td><td style=\"text-align: right;\">         730</td><td style=\"text-align: right;\">      852</td><td style=\"text-align: right;\">         849</td><td>PS             </td><td style=\"text-align: right;\">       1451</td><td>NA       </td><td style=\"text-align: right;\">                 84</td><td style=\"text-align: right;\">              79</td><td style=\"text-align: right;\">      nan</td><td style=\"text-align: right;\">         3</td><td style=\"text-align: right;\">        -2</td><td>SAN     </td><td>SFO   </td><td style=\"text-align: right;\">       447</td><td style=\"text-align: right;\">     nan</td><td style=\"text-align: right;\">      nan</td><td style=\"text-align: right;\">          0</td><td>NA                </td><td style=\"text-align: right;\">         0</td><td style=\"text-align: right;\">           nan</td><td style=\"text-align: right;\">           nan</td><td style=\"text-align: right;\">       nan</td><td style=\"text-align: right;\">            nan</td><td style=\"text-align: right;\">                nan</td><td>YES           </td><td>NO            </td></tr>\n",
       "<tr><td style=\"text-align: right;\">  1987</td><td style=\"text-align: right;\">     10</td><td style=\"text-align: right;\">          23</td><td style=\"text-align: right;\">          5</td><td style=\"text-align: right;\">      731</td><td style=\"text-align: right;\">         730</td><td style=\"text-align: right;\">      902</td><td style=\"text-align: right;\">         849</td><td>PS             </td><td style=\"text-align: right;\">       1451</td><td>NA       </td><td style=\"text-align: right;\">                 91</td><td style=\"text-align: right;\">              79</td><td style=\"text-align: right;\">      nan</td><td style=\"text-align: right;\">        13</td><td style=\"text-align: right;\">         1</td><td>SAN     </td><td>SFO   </td><td style=\"text-align: right;\">       447</td><td style=\"text-align: right;\">     nan</td><td style=\"text-align: right;\">      nan</td><td style=\"text-align: right;\">          0</td><td>NA                </td><td style=\"text-align: right;\">         0</td><td style=\"text-align: right;\">           nan</td><td style=\"text-align: right;\">           nan</td><td style=\"text-align: right;\">       nan</td><td style=\"text-align: right;\">            nan</td><td style=\"text-align: right;\">                nan</td><td>YES           </td><td>YES           </td></tr>\n",
       "<tr><td style=\"text-align: right;\">  1987</td><td style=\"text-align: right;\">     10</td><td style=\"text-align: right;\">          24</td><td style=\"text-align: right;\">          6</td><td style=\"text-align: right;\">      744</td><td style=\"text-align: right;\">         730</td><td style=\"text-align: right;\">      908</td><td style=\"text-align: right;\">         849</td><td>PS             </td><td style=\"text-align: right;\">       1451</td><td>NA       </td><td style=\"text-align: right;\">                 84</td><td style=\"text-align: right;\">              79</td><td style=\"text-align: right;\">      nan</td><td style=\"text-align: right;\">        19</td><td style=\"text-align: right;\">        14</td><td>SAN     </td><td>SFO   </td><td style=\"text-align: right;\">       447</td><td style=\"text-align: right;\">     nan</td><td style=\"text-align: right;\">      nan</td><td style=\"text-align: right;\">          0</td><td>NA                </td><td style=\"text-align: right;\">         0</td><td style=\"text-align: right;\">           nan</td><td style=\"text-align: right;\">           nan</td><td style=\"text-align: right;\">       nan</td><td style=\"text-align: right;\">            nan</td><td style=\"text-align: right;\">                nan</td><td>YES           </td><td>YES           </td></tr>\n",
       "<tr><td style=\"text-align: right;\">  1987</td><td style=\"text-align: right;\">     10</td><td style=\"text-align: right;\">          25</td><td style=\"text-align: right;\">          7</td><td style=\"text-align: right;\">      729</td><td style=\"text-align: right;\">         730</td><td style=\"text-align: right;\">      851</td><td style=\"text-align: right;\">         849</td><td>PS             </td><td style=\"text-align: right;\">       1451</td><td>NA       </td><td style=\"text-align: right;\">                 82</td><td style=\"text-align: right;\">              79</td><td style=\"text-align: right;\">      nan</td><td style=\"text-align: right;\">         2</td><td style=\"text-align: right;\">        -1</td><td>SAN     </td><td>SFO   </td><td style=\"text-align: right;\">       447</td><td style=\"text-align: right;\">     nan</td><td style=\"text-align: right;\">      nan</td><td style=\"text-align: right;\">          0</td><td>NA                </td><td style=\"text-align: right;\">         0</td><td style=\"text-align: right;\">           nan</td><td style=\"text-align: right;\">           nan</td><td style=\"text-align: right;\">       nan</td><td style=\"text-align: right;\">            nan</td><td style=\"text-align: right;\">                nan</td><td>YES           </td><td>NO            </td></tr>\n",
       "</tbody>\n",
       "</table>"
      ]
     },
     "metadata": {},
     "output_type": "display_data"
    }
   ],
   "source": [
    "data.show()"
   ]
  },
  {
   "cell_type": "code",
   "execution_count": 32,
   "metadata": {},
   "outputs": [
    {
     "name": "stdout",
     "output_type": "stream",
     "text": [
      "Parse progress: |█████████████████████████████████████████████████████████| 100%\n",
      "glm Model Build progress: |███████████████████████████████████████████████| 100%\n"
     ]
    },
    {
     "data": {
      "image/png": "[encoded data removed]",
      "text/plain": [
       "<matplotlib.figure.Figure at 0x7f88f4197940>"
      ]
     },
     "metadata": {},
     "output_type": "display_data"
    }
   ],
   "source": [
    "# Calculate and plot travel time\n",
    "hour1 = data[\"CRSArrTime\"] / 100\n",
    "mins1 = data[\"CRSArrTime\"] % 100\n",
    "arrTime = hour1*60 + mins1\n",
    "\n",
    "hour2 = data[\"CRSDepTime\"] / 100\n",
    "mins2 = data[\"CRSDepTime\"] % 100\n",
    "depTime = hour2*60 + mins2\n",
    "\n",
    "\n",
    "data[\"TravelTime\"] = (arrTime-depTime > 0).ifelse((arrTime-depTime), h2o.H2OFrame([[None]] * data.nrow))\n",
    "scatter_plot(data, \"Distance\", \"TravelTime\")"
   ]
  },
  {
   "cell_type": "code",
   "execution_count": 34,
   "metadata": {},
   "outputs": [
    {
     "name": "stdout",
     "output_type": "stream",
     "text": [
      "glm Model Build progress: |███████████████████████████████████████████████| 100%\n"
     ]
    },
    {
     "data": {
      "image/png": "[encoded data removed]",
      "text/plain": [
       "<matplotlib.figure.Figure at 0x7f88f41cbf60>"
      ]
     },
     "metadata": {},
     "output_type": "display_data"
    }
   ],
   "source": [
    "# Task 6: Impute missing travel times by the \"Origin\" and \"Dest\" columns and re-plot. \n",
    "data.impute(column = \"Distance\", by = [\"Origin\", \"Dest\"])\n",
    "scatter_plot(data, \"Distance\", \"TravelTime\")"
   ]
  },
  {
   "cell_type": "code",
   "execution_count": 36,
   "metadata": {},
   "outputs": [],
   "source": [
    "# Task 7: Create a test/train split\n",
    "splits = data.split_frame([.75])\n",
    "train = splits[0]\n",
    "test = splits[1]"
   ]
  },
  {
   "cell_type": "code",
   "execution_count": 37,
   "metadata": {},
   "outputs": [],
   "source": [
    "# Task 8: Set response variable and your choice of predictor variables\n",
    "myY = \"IsDepDelayed\"\n",
    "myX = [\"Origin\", \"Dest\", \"Year\", \"UniqueCarrier\", \"DayOfWeek\", \"Month\", \"Distance\", \"FlightNum\"]"
   ]
  },
  {
   "cell_type": "code",
   "execution_count": 38,
   "metadata": {},
   "outputs": [
    {
     "name": "stdout",
     "output_type": "stream",
     "text": [
      "glm Model Build progress: |███████████████████████████████████████████████| 100%\n"
     ]
    }
   ],
   "source": [
    "# Task 9: Build simple GLM model\n",
    "\n",
    "data_glm = H2OGeneralizedLinearEstimator(family=\"binomial\", standardize=True)\n",
    "data_glm.train(x               =myX,\n",
    "               y               =myY,\n",
    "               training_frame  =train,\n",
    "               validation_frame=test)"
   ]
  },
  {
   "cell_type": "code",
   "execution_count": 48,
   "metadata": {},
   "outputs": [
    {
     "name": "stdout",
     "output_type": "stream",
     "text": [
      "gbm Model Build progress: |███████████████████████████████████████████████| 100%\n"
     ]
    }
   ],
   "source": [
    "# Task 10: Build simple GBM model\n",
    "\n",
    "data_gbm = H2OGradientBoostingEstimator(balance_classes=True,\n",
    "                                        ntrees         =100,\n",
    "                                        max_depth      =1,\n",
    "                                        nfolds         =10,\n",
    "                                        distribution   =\"bernoulli\",\n",
    "                                        learn_rate     =0.1,\n",
    "                                        min_rows       =2)\n",
    "\n",
    "data_gbm.train(x               =myX,\n",
    "               y               =myY,\n",
    "               training_frame  =train,\n",
    "               validation_frame=test)"
   ]
  },
  {
   "cell_type": "code",
   "execution_count": 49,
   "metadata": {},
   "outputs": [
    {
     "name": "stdout",
     "output_type": "stream",
     "text": [
      "\n",
      "ModelMetricsBinomial: gbm\n",
      "** Reported on test data. **\n",
      "\n",
      "MSE: 0.21784525581153677\n",
      "RMSE: 0.4667389589605059\n",
      "LogLoss: 0.625352345460766\n",
      "Mean Per-Class Error: 0.34192319522550085\n",
      "AUC: 0.7080667343567568\n",
      "Gini: 0.41613346871351364\n",
      "Confusion Matrix (Act/Pred) for max f1 @ threshold = 0.41640097360591555: \n"
     ]
    },
    {
     "data": {
      "text/html": [
       "<div style=\"overflow:auto\"><table style=\"width:50%\"><tr><td><b></b></td>\n",
       "<td><b>NO</b></td>\n",
       "<td><b>YES</b></td>\n",
       "<td><b>Error</b></td>\n",
       "<td><b>Rate</b></td></tr>\n",
       "<tr><td>NO</td>\n",
       "<td>2038.0</td>\n",
       "<td>3238.0</td>\n",
       "<td>0.6137</td>\n",
       "<td> (3238.0/5276.0)</td></tr>\n",
       "<tr><td>YES</td>\n",
       "<td>835.0</td>\n",
       "<td>4913.0</td>\n",
       "<td>0.1453</td>\n",
       "<td> (835.0/5748.0)</td></tr>\n",
       "<tr><td>Total</td>\n",
       "<td>2873.0</td>\n",
       "<td>8151.0</td>\n",
       "<td>0.3695</td>\n",
       "<td> (4073.0/11024.0)</td></tr></table></div>"
      ],
      "text/plain": [
       "       NO    YES    Error    Rate\n",
       "-----  ----  -----  -------  ----------------\n",
       "NO     2038  3238   0.6137   (3238.0/5276.0)\n",
       "YES    835   4913   0.1453   (835.0/5748.0)\n",
       "Total  2873  8151   0.3695   (4073.0/11024.0)"
      ]
     },
     "metadata": {},
     "output_type": "display_data"
    },
    {
     "name": "stdout",
     "output_type": "stream",
     "text": [
      "Maximum Metrics: Maximum metrics at their respective thresholds\n",
      "\n"
     ]
    },
    {
     "data": {
      "text/html": [
       "<div style=\"overflow:auto\"><table style=\"width:50%\"><tr><td><b>metric</b></td>\n",
       "<td><b>threshold</b></td>\n",
       "<td><b>value</b></td>\n",
       "<td><b>idx</b></td></tr>\n",
       "<tr><td>max f1</td>\n",
       "<td>0.4164010</td>\n",
       "<td>0.7069573</td>\n",
       "<td>283.0</td></tr>\n",
       "<tr><td>max f2</td>\n",
       "<td>0.1956633</td>\n",
       "<td>0.8454313</td>\n",
       "<td>389.0</td></tr>\n",
       "<tr><td>max f0point5</td>\n",
       "<td>0.5373496</td>\n",
       "<td>0.6744537</td>\n",
       "<td>203.0</td></tr>\n",
       "<tr><td>max accuracy</td>\n",
       "<td>0.5373496</td>\n",
       "<td>0.6565675</td>\n",
       "<td>203.0</td></tr>\n",
       "<tr><td>max precision</td>\n",
       "<td>0.9060587</td>\n",
       "<td>1.0</td>\n",
       "<td>0.0</td></tr>\n",
       "<tr><td>max recall</td>\n",
       "<td>0.1514199</td>\n",
       "<td>1.0</td>\n",
       "<td>398.0</td></tr>\n",
       "<tr><td>max specificity</td>\n",
       "<td>0.9060587</td>\n",
       "<td>1.0</td>\n",
       "<td>0.0</td></tr>\n",
       "<tr><td>max absolute_mcc</td>\n",
       "<td>0.5373496</td>\n",
       "<td>0.3163775</td>\n",
       "<td>203.0</td></tr>\n",
       "<tr><td>max min_per_class_accuracy</td>\n",
       "<td>0.5212562</td>\n",
       "<td>0.6520529</td>\n",
       "<td>215.0</td></tr>\n",
       "<tr><td>max mean_per_class_accuracy</td>\n",
       "<td>0.5373496</td>\n",
       "<td>0.6580768</td>\n",
       "<td>203.0</td></tr></table></div>"
      ],
      "text/plain": [
       "metric                       threshold    value     idx\n",
       "---------------------------  -----------  --------  -----\n",
       "max f1                       0.416401     0.706957  283\n",
       "max f2                       0.195663     0.845431  389\n",
       "max f0point5                 0.53735      0.674454  203\n",
       "max accuracy                 0.53735      0.656567  203\n",
       "max precision                0.906059     1         0\n",
       "max recall                   0.15142      1         398\n",
       "max specificity              0.906059     1         0\n",
       "max absolute_mcc             0.53735      0.316377  203\n",
       "max min_per_class_accuracy   0.521256     0.652053  215\n",
       "max mean_per_class_accuracy  0.53735      0.658077  203"
      ]
     },
     "metadata": {},
     "output_type": "display_data"
    },
    {
     "name": "stdout",
     "output_type": "stream",
     "text": [
      "Gains/Lift Table: Avg response rate: 52.14 %\n",
      "\n"
     ]
    },
    {
     "data": {
      "text/html": [
       "<div style=\"overflow:auto\"><table style=\"width:50%\"><tr><td><b></b></td>\n",
       "<td><b>group</b></td>\n",
       "<td><b>cumulative_data_fraction</b></td>\n",
       "<td><b>lower_threshold</b></td>\n",
       "<td><b>lift</b></td>\n",
       "<td><b>cumulative_lift</b></td>\n",
       "<td><b>response_rate</b></td>\n",
       "<td><b>cumulative_response_rate</b></td>\n",
       "<td><b>capture_rate</b></td>\n",
       "<td><b>cumulative_capture_rate</b></td>\n",
       "<td><b>gain</b></td>\n",
       "<td><b>cumulative_gain</b></td></tr>\n",
       "<tr><td></td>\n",
       "<td>1</td>\n",
       "<td>0.0100689</td>\n",
       "<td>0.8515017</td>\n",
       "<td>1.7969368</td>\n",
       "<td>1.7969368</td>\n",
       "<td>0.9369369</td>\n",
       "<td>0.9369369</td>\n",
       "<td>0.0180932</td>\n",
       "<td>0.0180932</td>\n",
       "<td>79.6936812</td>\n",
       "<td>79.6936812</td></tr>\n",
       "<tr><td></td>\n",
       "<td>2</td>\n",
       "<td>0.0200472</td>\n",
       "<td>0.8223807</td>\n",
       "<td>1.6563548</td>\n",
       "<td>1.7269639</td>\n",
       "<td>0.8636364</td>\n",
       "<td>0.9004525</td>\n",
       "<td>0.0165275</td>\n",
       "<td>0.0346207</td>\n",
       "<td>65.6354780</td>\n",
       "<td>72.6963854</td></tr>\n",
       "<tr><td></td>\n",
       "<td>3</td>\n",
       "<td>0.0300254</td>\n",
       "<td>0.8080580</td>\n",
       "<td>1.6389195</td>\n",
       "<td>1.6977044</td>\n",
       "<td>0.8545455</td>\n",
       "<td>0.8851964</td>\n",
       "<td>0.0163535</td>\n",
       "<td>0.0509743</td>\n",
       "<td>63.8919466</td>\n",
       "<td>69.7704390</td></tr>\n",
       "<tr><td></td>\n",
       "<td>4</td>\n",
       "<td>0.0404572</td>\n",
       "<td>0.7969429</td>\n",
       "<td>1.7511119</td>\n",
       "<td>1.7114754</td>\n",
       "<td>0.9130435</td>\n",
       "<td>0.8923767</td>\n",
       "<td>0.0182672</td>\n",
       "<td>0.0692415</td>\n",
       "<td>75.1111918</td>\n",
       "<td>71.1475389</td></tr>\n",
       "<tr><td></td>\n",
       "<td>5</td>\n",
       "<td>0.0500726</td>\n",
       "<td>0.7849400</td>\n",
       "<td>1.5741127</td>\n",
       "<td>1.6850978</td>\n",
       "<td>0.8207547</td>\n",
       "<td>0.8786232</td>\n",
       "<td>0.0151357</td>\n",
       "<td>0.0843772</td>\n",
       "<td>57.4112735</td>\n",
       "<td>68.5097778</td></tr>\n",
       "<tr><td></td>\n",
       "<td>6</td>\n",
       "<td>0.1005080</td>\n",
       "<td>0.7344546</td>\n",
       "<td>1.5246492</td>\n",
       "<td>1.6045839</td>\n",
       "<td>0.7949640</td>\n",
       "<td>0.8366426</td>\n",
       "<td>0.0768963</td>\n",
       "<td>0.1612735</td>\n",
       "<td>52.4649174</td>\n",
       "<td>60.4583858</td></tr>\n",
       "<tr><td></td>\n",
       "<td>7</td>\n",
       "<td>0.1502177</td>\n",
       "<td>0.6990564</td>\n",
       "<td>1.4139148</td>\n",
       "<td>1.5414881</td>\n",
       "<td>0.7372263</td>\n",
       "<td>0.8037440</td>\n",
       "<td>0.0702853</td>\n",
       "<td>0.2315588</td>\n",
       "<td>41.3914837</td>\n",
       "<td>54.1488071</td></tr>\n",
       "<tr><td></td>\n",
       "<td>8</td>\n",
       "<td>0.2001996</td>\n",
       "<td>0.6699358</td>\n",
       "<td>1.3748900</td>\n",
       "<td>1.4998952</td>\n",
       "<td>0.7168784</td>\n",
       "<td>0.7820571</td>\n",
       "<td>0.0687196</td>\n",
       "<td>0.3002784</td>\n",
       "<td>37.4889964</td>\n",
       "<td>49.9895159</td></tr>\n",
       "<tr><td></td>\n",
       "<td>9</td>\n",
       "<td>0.2999819</td>\n",
       "<td>0.6162008</td>\n",
       "<td>1.2762649</td>\n",
       "<td>1.4255095</td>\n",
       "<td>0.6654545</td>\n",
       "<td>0.7432718</td>\n",
       "<td>0.1273486</td>\n",
       "<td>0.4276270</td>\n",
       "<td>27.6264946</td>\n",
       "<td>42.5509542</td></tr>\n",
       "<tr><td></td>\n",
       "<td>10</td>\n",
       "<td>0.4003991</td>\n",
       "<td>0.5725977</td>\n",
       "<td>1.1521167</td>\n",
       "<td>1.3569445</td>\n",
       "<td>0.6007227</td>\n",
       "<td>0.7075215</td>\n",
       "<td>0.1156924</td>\n",
       "<td>0.5433194</td>\n",
       "<td>15.2116694</td>\n",
       "<td>35.6944548</td></tr>\n",
       "<tr><td></td>\n",
       "<td>11</td>\n",
       "<td>0.5017235</td>\n",
       "<td>0.5228263</td>\n",
       "<td>1.0284806</td>\n",
       "<td>1.2906104</td>\n",
       "<td>0.5362578</td>\n",
       "<td>0.6729344</td>\n",
       "<td>0.1042102</td>\n",
       "<td>0.6475296</td>\n",
       "<td>2.8480577</td>\n",
       "<td>29.0610385</td></tr>\n",
       "<tr><td></td>\n",
       "<td>12</td>\n",
       "<td>0.6008708</td>\n",
       "<td>0.4731839</td>\n",
       "<td>0.9387632</td>\n",
       "<td>1.2325535</td>\n",
       "<td>0.4894785</td>\n",
       "<td>0.6426630</td>\n",
       "<td>0.0930759</td>\n",
       "<td>0.7406054</td>\n",
       "<td>-6.1236782</td>\n",
       "<td>23.2553478</td></tr>\n",
       "<tr><td></td>\n",
       "<td>13</td>\n",
       "<td>0.7002903</td>\n",
       "<td>0.4291653</td>\n",
       "<td>0.8346997</td>\n",
       "<td>1.1760706</td>\n",
       "<td>0.4352190</td>\n",
       "<td>0.6132124</td>\n",
       "<td>0.0829854</td>\n",
       "<td>0.8235908</td>\n",
       "<td>-16.5300276</td>\n",
       "<td>17.6070613</td></tr>\n",
       "<tr><td></td>\n",
       "<td>14</td>\n",
       "<td>0.8002540</td>\n",
       "<td>0.3861774</td>\n",
       "<td>0.6961468</td>\n",
       "<td>1.1161209</td>\n",
       "<td>0.3629764</td>\n",
       "<td>0.5819542</td>\n",
       "<td>0.0695894</td>\n",
       "<td>0.8931802</td>\n",
       "<td>-30.3853183</td>\n",
       "<td>11.6120940</td></tr>\n",
       "<tr><td></td>\n",
       "<td>15</td>\n",
       "<td>0.9004898</td>\n",
       "<td>0.3254222</td>\n",
       "<td>0.5849114</td>\n",
       "<td>1.0569906</td>\n",
       "<td>0.3049774</td>\n",
       "<td>0.5511232</td>\n",
       "<td>0.0586291</td>\n",
       "<td>0.9518093</td>\n",
       "<td>-41.5088624</td>\n",
       "<td>5.6990631</td></tr>\n",
       "<tr><td></td>\n",
       "<td>16</td>\n",
       "<td>1.0</td>\n",
       "<td>0.1465037</td>\n",
       "<td>0.4842789</td>\n",
       "<td>1.0</td>\n",
       "<td>0.2525068</td>\n",
       "<td>0.5214078</td>\n",
       "<td>0.0481907</td>\n",
       "<td>1.0</td>\n",
       "<td>-51.5721056</td>\n",
       "<td>0.0</td></tr></table></div>"
      ],
      "text/plain": [
       "    group    cumulative_data_fraction    lower_threshold    lift      cumulative_lift    response_rate    cumulative_response_rate    capture_rate    cumulative_capture_rate    gain      cumulative_gain\n",
       "--  -------  --------------------------  -----------------  --------  -----------------  ---------------  --------------------------  --------------  -------------------------  --------  -----------------\n",
       "    1        0.0100689                   0.851502           1.79694   1.79694            0.936937         0.936937                    0.0180932       0.0180932                  79.6937   79.6937\n",
       "    2        0.0200472                   0.822381           1.65635   1.72696            0.863636         0.900452                    0.0165275       0.0346207                  65.6355   72.6964\n",
       "    3        0.0300254                   0.808058           1.63892   1.6977             0.854545         0.885196                    0.0163535       0.0509743                  63.8919   69.7704\n",
       "    4        0.0404572                   0.796943           1.75111   1.71148            0.913043         0.892377                    0.0182672       0.0692415                  75.1112   71.1475\n",
       "    5        0.0500726                   0.78494            1.57411   1.6851             0.820755         0.878623                    0.0151357       0.0843772                  57.4113   68.5098\n",
       "    6        0.100508                    0.734455           1.52465   1.60458            0.794964         0.836643                    0.0768963       0.161273                   52.4649   60.4584\n",
       "    7        0.150218                    0.699056           1.41391   1.54149            0.737226         0.803744                    0.0702853       0.231559                   41.3915   54.1488\n",
       "    8        0.2002                      0.669936           1.37489   1.4999             0.716878         0.782057                    0.0687196       0.300278                   37.489    49.9895\n",
       "    9        0.299982                    0.616201           1.27626   1.42551            0.665455         0.743272                    0.127349        0.427627                   27.6265   42.551\n",
       "    10       0.400399                    0.572598           1.15212   1.35694            0.600723         0.707522                    0.115692        0.543319                   15.2117   35.6945\n",
       "    11       0.501724                    0.522826           1.02848   1.29061            0.536258         0.672934                    0.10421         0.64753                    2.84806   29.061\n",
       "    12       0.600871                    0.473184           0.938763  1.23255            0.489478         0.642663                    0.0930759       0.740605                   -6.12368  23.2553\n",
       "    13       0.70029                     0.429165           0.8347    1.17607            0.435219         0.613212                    0.0829854       0.823591                   -16.53    17.6071\n",
       "    14       0.800254                    0.386177           0.696147  1.11612            0.362976         0.581954                    0.0695894       0.89318                    -30.3853  11.6121\n",
       "    15       0.90049                     0.325422           0.584911  1.05699            0.304977         0.551123                    0.0586291       0.951809                   -41.5089  5.69906\n",
       "    16       1                           0.146504           0.484279  1                  0.252507         0.521408                    0.0481907       1                          -51.5721  0"
      ]
     },
     "metadata": {},
     "output_type": "display_data"
    },
    {
     "name": "stdout",
     "output_type": "stream",
     "text": [
      "\n"
     ]
    },
    {
     "data": {
      "text/plain": []
     },
     "execution_count": 49,
     "metadata": {},
     "output_type": "execute_result"
    }
   ],
   "source": [
    "# Model performance of GBM model on test data\n",
    "data_gbm.model_performance(test)"
   ]
  },
  {
   "cell_type": "code",
   "execution_count": 50,
   "metadata": {},
   "outputs": [
    {
     "data": {
      "text/plain": [
       "{'balance_classes': True,\n",
       " 'build_tree_one_node': False,\n",
       " 'calibrate_model': False,\n",
       " 'calibration_frame': None,\n",
       " 'categorical_encoding': 'AUTO',\n",
       " 'checkpoint': None,\n",
       " 'class_sampling_factors': None,\n",
       " 'col_sample_rate': 1.0,\n",
       " 'col_sample_rate_change_per_level': 1.0,\n",
       " 'col_sample_rate_per_tree': 1.0,\n",
       " 'custom_metric_func': None,\n",
       " 'distribution': 'bernoulli',\n",
       " 'fold_assignment': 'AUTO',\n",
       " 'fold_column': None,\n",
       " 'histogram_type': 'AUTO',\n",
       " 'huber_alpha': 0.9,\n",
       " 'ignore_const_cols': True,\n",
       " 'ignored_columns': ['WeatherDelay',\n",
       "  'LateAircraftDelay',\n",
       "  'TaxiOut',\n",
       "  'AirTime',\n",
       "  'SecurityDelay',\n",
       "  'DepDelay',\n",
       "  'Diverted',\n",
       "  'CRSElapsedTime',\n",
       "  'IsArrDelayed',\n",
       "  'CarrierDelay',\n",
       "  'ActualElapsedTime',\n",
       "  'DepTime',\n",
       "  'TailNum',\n",
       "  'TravelTime',\n",
       "  'CRSArrTime',\n",
       "  'DayofMonth',\n",
       "  'CRSDepTime',\n",
       "  'ArrDelay',\n",
       "  'Cancelled',\n",
       "  'ArrTime',\n",
       "  'TaxiIn',\n",
       "  'CancellationCode',\n",
       "  'NASDelay'],\n",
       " 'keep_cross_validation_fold_assignment': False,\n",
       " 'keep_cross_validation_predictions': False,\n",
       " 'learn_rate': 0.1,\n",
       " 'learn_rate_annealing': 1.0,\n",
       " 'max_abs_leafnode_pred': 1.7976931348623157e+308,\n",
       " 'max_after_balance_size': 5.0,\n",
       " 'max_confusion_matrix_size': 20,\n",
       " 'max_depth': 1,\n",
       " 'max_hit_ratio_k': 0,\n",
       " 'max_runtime_secs': 0.0,\n",
       " 'min_rows': 2.0,\n",
       " 'min_split_improvement': 1e-05,\n",
       " 'model_id': 'GBM_model_python_1515988043997_289',\n",
       " 'nbins': 20,\n",
       " 'nbins_cats': 1024,\n",
       " 'nbins_top_level': 1024,\n",
       " 'nfolds': 10,\n",
       " 'ntrees': 100,\n",
       " 'offset_column': None,\n",
       " 'pred_noise_bandwidth': 0.0,\n",
       " 'quantile_alpha': 0.5,\n",
       " 'r2_stopping': 1.7976931348623157e+308,\n",
       " 'response_column': 'IsDepDelayed',\n",
       " 'sample_rate': 1.0,\n",
       " 'sample_rate_per_class': None,\n",
       " 'score_each_iteration': False,\n",
       " 'score_tree_interval': 0,\n",
       " 'seed': -6006970397986475547,\n",
       " 'stopping_metric': 'AUTO',\n",
       " 'stopping_rounds': 0,\n",
       " 'stopping_tolerance': 0.001,\n",
       " 'training_frame': 'py_39_sid_ac9b',\n",
       " 'tweedie_power': 1.5,\n",
       " 'validation_frame': 'py_40_sid_ac9b',\n",
       " 'weights_column': None}"
      ]
     },
     "execution_count": 50,
     "metadata": {},
     "output_type": "execute_result"
    }
   ],
   "source": [
    "data_gbm.actual_params"
   ]
  },
  {
   "cell_type": "code",
   "execution_count": null,
   "metadata": {},
   "outputs": [],
   "source": []
  }
 ],
 "metadata": {
  "kernelspec": {
   "display_name": "Python 3",
   "language": "python",
   "name": "python3"
  },
  "language_info": {
   "codemirror_mode": {
    "name": "ipython",
    "version": 3
   },
   "file_extension": ".py",
   "mimetype": "text/x-python",
   "name": "python",
   "nbconvert_exporter": "python",
   "pygments_lexer": "ipython3",
   "version": "3.6.4"
  }
 },
 "nbformat": 4,
 "nbformat_minor": 2
}

