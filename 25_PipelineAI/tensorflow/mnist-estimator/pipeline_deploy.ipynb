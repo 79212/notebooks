{
 "cells": [
  {
   "cell_type": "code",
   "execution_count": 4,
   "metadata": {},
   "outputs": [
    {
     "name": "stdout",
     "output_type": "stream",
     "text": [
      "Collecting cli-pipeline==1.3.0\r\n",
      "  Downloading cli_pipeline-1.3.0-py3-none-any.whl\r\n",
      "Requirement already satisfied: tabulate==0.7.7 in /opt/conda/lib/python3.5/site-packages (from cli-pipeline==1.3.0)\r\n",
      "Requirement already satisfied: pyyaml==3.12 in /opt/conda/lib/python3.5/site-packages (from cli-pipeline==1.3.0)\r\n",
      "Collecting kubernetes==3.0.0 (from cli-pipeline==1.3.0)\r\n",
      "  Using cached kubernetes-3.0.0-py2.py3-none-any.whl\r\n",
      "Requirement already satisfied: requests==2.18.1 in /opt/conda/lib/python3.5/site-packages (from cli-pipeline==1.3.0)\r\n",
      "Requirement already satisfied: fire==0.1.1 in /opt/conda/lib/python3.5/site-packages (from cli-pipeline==1.3.0)\r\n",
      "Requirement already satisfied: futures==3.1.1 in /opt/conda/lib/python3.5/site-packages (from cli-pipeline==1.3.0)\r\n",
      "Requirement already satisfied: jinja2==2.9.6 in /opt/conda/lib/python3.5/site-packages (from cli-pipeline==1.3.0)\r\n",
      "Requirement already satisfied: setuptools>=21.0.0 in /opt/conda/lib/python3.5/site-packages (from kubernetes==3.0.0->cli-pipeline==1.3.0)\r\n",
      "Requirement already satisfied: google-auth>=1.0.1 in /opt/conda/lib/python3.5/site-packages (from kubernetes==3.0.0->cli-pipeline==1.3.0)\r\n",
      "Requirement already satisfied: python-dateutil>=2.5.3 in /opt/conda/lib/python3.5/site-packages (from kubernetes==3.0.0->cli-pipeline==1.3.0)\r\n",
      "Requirement already satisfied: six>=1.9.0 in /opt/conda/lib/python3.5/site-packages (from kubernetes==3.0.0->cli-pipeline==1.3.0)\r\n",
      "Requirement already satisfied: ipaddress>=1.0.17 in /opt/conda/lib/python3.5/site-packages (from kubernetes==3.0.0->cli-pipeline==1.3.0)\r\n",
      "Requirement already satisfied: certifi>=14.05.14 in /opt/conda/lib/python3.5/site-packages (from kubernetes==3.0.0->cli-pipeline==1.3.0)\r\n",
      "Requirement already satisfied: urllib3!=1.21,>=1.19.1 in /opt/conda/lib/python3.5/site-packages (from kubernetes==3.0.0->cli-pipeline==1.3.0)\r\n",
      "Requirement already satisfied: websocket-client<=0.40.0,>=0.32.0 in /opt/conda/lib/python3.5/site-packages (from kubernetes==3.0.0->cli-pipeline==1.3.0)\r\n",
      "Requirement already satisfied: idna<2.6,>=2.5 in /opt/conda/lib/python3.5/site-packages (from requests==2.18.1->cli-pipeline==1.3.0)\r\n",
      "Requirement already satisfied: chardet<3.1.0,>=3.0.2 in /opt/conda/lib/python3.5/site-packages (from requests==2.18.1->cli-pipeline==1.3.0)\r\n",
      "Requirement already satisfied: ipython<6.0 in /opt/conda/lib/python3.5/site-packages (from fire==0.1.1->cli-pipeline==1.3.0)\r\n",
      "Requirement already satisfied: MarkupSafe>=0.23 in /opt/conda/lib/python3.5/site-packages (from jinja2==2.9.6->cli-pipeline==1.3.0)\r\n",
      "Requirement already satisfied: cachetools>=2.0.0 in /opt/conda/lib/python3.5/site-packages (from google-auth>=1.0.1->kubernetes==3.0.0->cli-pipeline==1.3.0)\r\n",
      "Requirement already satisfied: rsa>=3.1.4 in /opt/conda/lib/python3.5/site-packages (from google-auth>=1.0.1->kubernetes==3.0.0->cli-pipeline==1.3.0)\r\n",
      "Requirement already satisfied: pyasn1-modules>=0.0.5 in /opt/conda/lib/python3.5/site-packages (from google-auth>=1.0.1->kubernetes==3.0.0->cli-pipeline==1.3.0)\r\n",
      "Requirement already satisfied: pyasn1>=0.1.7 in /opt/conda/lib/python3.5/site-packages (from google-auth>=1.0.1->kubernetes==3.0.0->cli-pipeline==1.3.0)\r\n",
      "Requirement already satisfied: simplegeneric>0.8 in /opt/conda/lib/python3.5/site-packages (from ipython<6.0->fire==0.1.1->cli-pipeline==1.3.0)\r\n",
      "Requirement already satisfied: traitlets>=4.2 in /opt/conda/lib/python3.5/site-packages (from ipython<6.0->fire==0.1.1->cli-pipeline==1.3.0)\r\n",
      "Requirement already satisfied: pygments in /opt/conda/lib/python3.5/site-packages (from ipython<6.0->fire==0.1.1->cli-pipeline==1.3.0)\r\n",
      "Requirement already satisfied: prompt-toolkit<2.0.0,>=1.0.4 in /opt/conda/lib/python3.5/site-packages (from ipython<6.0->fire==0.1.1->cli-pipeline==1.3.0)\r\n",
      "Requirement already satisfied: decorator in /opt/conda/lib/python3.5/site-packages (from ipython<6.0->fire==0.1.1->cli-pipeline==1.3.0)\r\n",
      "Requirement already satisfied: pexpect; sys_platform != \"win32\" in /opt/conda/lib/python3.5/site-packages (from ipython<6.0->fire==0.1.1->cli-pipeline==1.3.0)\r\n",
      "Requirement already satisfied: pickleshare in /opt/conda/lib/python3.5/site-packages (from ipython<6.0->fire==0.1.1->cli-pipeline==1.3.0)\r\n",
      "Requirement already satisfied: wcwidth in /opt/conda/lib/python3.5/site-packages (from prompt-toolkit<2.0.0,>=1.0.4->ipython<6.0->fire==0.1.1->cli-pipeline==1.3.0)\r\n",
      "Installing collected packages: kubernetes, cli-pipeline\r\n",
      "  Found existing installation: kubernetes 3.0.0a1\r\n",
      "    Uninstalling kubernetes-3.0.0a1:\r\n",
      "      Successfully uninstalled kubernetes-3.0.0a1\r\n",
      "Successfully installed cli-pipeline-1.3.0 kubernetes-3.0.0\r\n"
     ]
    }
   ],
   "source": [
    "!pip install cli-pipeline==1.3.0"
   ]
  },
  {
   "cell_type": "code",
   "execution_count": 2,
   "metadata": {},
   "outputs": [
    {
     "name": "stdout",
     "output_type": "stream",
     "text": [
      "cli_version: 1.3.0\r\n",
      "api_version: v1\r\n",
      "capabilities_enabled: ['predict', 'server', 'version']\r\n",
      "capabilities_disabled: ['train', 'cluster', 'optimize']\r\n"
     ]
    }
   ],
   "source": [
    "!pipeline version"
   ]
  },
  {
   "cell_type": "code",
   "execution_count": 3,
   "metadata": {},
   "outputs": [
    {
     "name": "stdout",
     "output_type": "stream",
     "text": [
      "Type:        PipelineCli\r\n",
      "String form: <cli_pipeline.__init__.PipelineCli object at 0x7f49eae21dd8>\r\n",
      "File:        /opt/conda/lib/python3.5/site-packages/cli_pipeline/__init__.py\r\n",
      "\r\n",
      "Usage:       pipeline \r\n",
      "             pipeline cluster-describe\r\n",
      "             pipeline cluster-logs\r\n",
      "             pipeline cluster-proxy\r\n",
      "             pipeline cluster-quarantine\r\n",
      "             pipeline cluster-rollback\r\n",
      "             pipeline cluster-route\r\n",
      "             pipeline cluster-scale\r\n",
      "             pipeline cluster-shell\r\n",
      "             pipeline cluster-start\r\n",
      "             pipeline cluster-stop\r\n",
      "             pipeline cluster-upgrade\r\n",
      "             pipeline optimize-model\r\n",
      "             pipeline predict-model\r\n",
      "             pipeline server-build\r\n",
      "             pipeline server-logs\r\n",
      "             pipeline server-shell\r\n",
      "             pipeline server-start\r\n",
      "             pipeline server-stop\r\n",
      "             pipeline train-model\r\n",
      "             pipeline version\r\n"
     ]
    }
   ],
   "source": [
    "!pipeline"
   ]
  },
  {
   "cell_type": "code",
   "execution_count": null,
   "metadata": {},
   "outputs": [],
   "source": []
  }
 ],
 "metadata": {
  "kernelspec": {
   "display_name": "Python 3",
   "language": "python",
   "name": "python3"
  },
  "language_info": {
   "codemirror_mode": {
    "name": "ipython",
    "version": 3
   },
   "file_extension": ".py",
   "mimetype": "text/x-python",
   "name": "python",
   "nbconvert_exporter": "python",
   "pygments_lexer": "ipython3",
   "version": "3.5.4"
  }
 },
 "nbformat": 4,
 "nbformat_minor": 2
}
